{
 "cells": [
  {
   "cell_type": "markdown",
   "metadata": {},
   "source": [
    "#  Определение количества заказов для сервиса такси"
   ]
  },
  {
   "cell_type": "markdown",
   "metadata": {},
   "source": [
    "## Описание проекта\n",
    "***\n",
    "Руководство компании, предоставляющие услуги такси, желает оптимизировать нагрузку на водителей в час пик. Для этого пранируется привлекать больше водителей в период пиковой нагрузки.\n",
    "***\n",
    "## Цель\n",
    "Необходимо построить модель для предсказания количества заказов такси на следующий час.\n",
    "***\n",
    "Заказчику важно:\n",
    "- качество предсказания;\n",
    "- время обучения модели;\n",
    "- время предсказания модели;\n",
    "- значение метрики RMSE должно быть меньше 48\n",
    "***"
   ]
  },
  {
   "cell_type": "markdown",
   "metadata": {},
   "source": [
    "**Загрузка библиотек**"
   ]
  },
  {
   "cell_type": "code",
   "execution_count": 1,
   "metadata": {},
   "outputs": [
    {
     "name": "stdout",
     "output_type": "stream",
     "text": [
      "Requirement already satisfied: scikit-learn in /opt/conda/lib/python3.9/site-packages (1.5.2)\n",
      "Requirement already satisfied: joblib>=1.2.0 in /opt/conda/lib/python3.9/site-packages (from scikit-learn) (1.4.2)\n",
      "Requirement already satisfied: numpy>=1.19.5 in /opt/conda/lib/python3.9/site-packages (from scikit-learn) (1.21.1)\n",
      "Requirement already satisfied: threadpoolctl>=3.1.0 in /opt/conda/lib/python3.9/site-packages (from scikit-learn) (3.1.0)\n",
      "Requirement already satisfied: scipy>=1.6.0 in /opt/conda/lib/python3.9/site-packages (from scikit-learn) (1.9.1)\n",
      "Requirement already satisfied: phik in /opt/conda/lib/python3.9/site-packages (0.12.4)\n",
      "Requirement already satisfied: joblib>=0.14.1 in /opt/conda/lib/python3.9/site-packages (from phik) (1.4.2)\n",
      "Requirement already satisfied: matplotlib>=2.2.3 in /opt/conda/lib/python3.9/site-packages (from phik) (3.3.4)\n",
      "Requirement already satisfied: pandas>=0.25.1 in /opt/conda/lib/python3.9/site-packages (from phik) (1.2.4)\n",
      "Requirement already satisfied: scipy>=1.5.2 in /opt/conda/lib/python3.9/site-packages (from phik) (1.9.1)\n",
      "Requirement already satisfied: numpy>=1.18.0 in /opt/conda/lib/python3.9/site-packages (from phik) (1.21.1)\n",
      "Requirement already satisfied: pillow>=6.2.0 in /opt/conda/lib/python3.9/site-packages (from matplotlib>=2.2.3->phik) (8.4.0)\n",
      "Requirement already satisfied: kiwisolver>=1.0.1 in /opt/conda/lib/python3.9/site-packages (from matplotlib>=2.2.3->phik) (1.4.4)\n",
      "Requirement already satisfied: python-dateutil>=2.1 in /opt/conda/lib/python3.9/site-packages (from matplotlib>=2.2.3->phik) (2.8.1)\n",
      "Requirement already satisfied: cycler>=0.10 in /opt/conda/lib/python3.9/site-packages (from matplotlib>=2.2.3->phik) (0.11.0)\n",
      "Requirement already satisfied: pyparsing!=2.0.4,!=2.1.2,!=2.1.6,>=2.0.3 in /opt/conda/lib/python3.9/site-packages (from matplotlib>=2.2.3->phik) (2.4.7)\n",
      "Requirement already satisfied: pytz>=2017.3 in /opt/conda/lib/python3.9/site-packages (from pandas>=0.25.1->phik) (2021.1)\n",
      "Requirement already satisfied: six>=1.5 in /opt/conda/lib/python3.9/site-packages (from python-dateutil>=2.1->matplotlib>=2.2.3->phik) (1.16.0)\n"
     ]
    }
   ],
   "source": [
    "!pip install --upgrade scikit-learn\n",
    "!pip install --upgrade phik\n",
    "\n",
    "import pandas as pd\n",
    "import numpy as np\n",
    "import seaborn as sns\n",
    "import phik\n",
    "import matplotlib.pyplot as plt\n",
    "\n",
    "from phik.report import plot_correlation_matrix\n",
    "from sklearn.tree import DecisionTreeRegressor\n",
    "from sklearn.impute import SimpleImputer\n",
    "from sklearn.compose import ColumnTransformer\n",
    "from sklearn.metrics import root_mean_squared_error\n",
    "from sklearn.pipeline import Pipeline\n",
    "from sklearn.linear_model import LinearRegression\n",
    "from sklearn.preprocessing import StandardScaler, RobustScaler, MinMaxScaler\n",
    "from sklearn.model_selection import train_test_split, GridSearchCV, TimeSeriesSplit\n",
    "from statsmodels.tsa.seasonal import seasonal_decompose\n",
    "from statsmodels.tsa.stattools import adfuller\n",
    "from statsmodels.graphics.tsaplots import plot_acf"
   ]
  },
  {
   "cell_type": "markdown",
   "metadata": {},
   "source": [
    "**Установка глобальных переменных**"
   ]
  },
  {
   "cell_type": "code",
   "execution_count": 2,
   "metadata": {},
   "outputs": [],
   "source": [
    "RANDOM_STATE = 42\n",
    "lags_number = 24*7"
   ]
  },
  {
   "cell_type": "markdown",
   "metadata": {},
   "source": [
    "## Подготовка"
   ]
  },
  {
   "cell_type": "markdown",
   "metadata": {},
   "source": [
    "**Загрузка данных**"
   ]
  },
  {
   "cell_type": "code",
   "execution_count": 3,
   "metadata": {},
   "outputs": [],
   "source": [
    "df = pd.read_csv('/datasets/taxi.csv', index_col='datetime', parse_dates=[0])"
   ]
  },
  {
   "cell_type": "markdown",
   "metadata": {},
   "source": [
    "**Проверка соответствия данных описанию**"
   ]
  },
  {
   "cell_type": "code",
   "execution_count": 4,
   "metadata": {},
   "outputs": [
    {
     "name": "stdout",
     "output_type": "stream",
     "text": [
      "<class 'pandas.core.frame.DataFrame'>\n",
      "DatetimeIndex: 26496 entries, 2018-03-01 00:00:00 to 2018-08-31 23:50:00\n",
      "Data columns (total 1 columns):\n",
      " #   Column      Non-Null Count  Dtype\n",
      "---  ------      --------------  -----\n",
      " 0   num_orders  26496 non-null  int64\n",
      "dtypes: int64(1)\n",
      "memory usage: 414.0 KB\n"
     ]
    },
    {
     "data": {
      "text/html": [
       "<div>\n",
       "<style scoped>\n",
       "    .dataframe tbody tr th:only-of-type {\n",
       "        vertical-align: middle;\n",
       "    }\n",
       "\n",
       "    .dataframe tbody tr th {\n",
       "        vertical-align: top;\n",
       "    }\n",
       "\n",
       "    .dataframe thead th {\n",
       "        text-align: right;\n",
       "    }\n",
       "</style>\n",
       "<table border=\"1\" class=\"dataframe\">\n",
       "  <thead>\n",
       "    <tr style=\"text-align: right;\">\n",
       "      <th></th>\n",
       "      <th>num_orders</th>\n",
       "    </tr>\n",
       "    <tr>\n",
       "      <th>datetime</th>\n",
       "      <th></th>\n",
       "    </tr>\n",
       "  </thead>\n",
       "  <tbody>\n",
       "    <tr>\n",
       "      <th>2018-03-01</th>\n",
       "      <td>9</td>\n",
       "    </tr>\n",
       "  </tbody>\n",
       "</table>\n",
       "</div>"
      ],
      "text/plain": [
       "            num_orders\n",
       "datetime              \n",
       "2018-03-01           9"
      ]
     },
     "execution_count": 4,
     "metadata": {},
     "output_type": "execute_result"
    }
   ],
   "source": [
    "df.info()\n",
    "df.head(1)"
   ]
  },
  {
   "cell_type": "markdown",
   "metadata": {},
   "source": [
    "Данные соответствуют описанию"
   ]
  },
  {
   "cell_type": "markdown",
   "metadata": {},
   "source": [
    "**Проверка наличия пропусков**"
   ]
  },
  {
   "cell_type": "code",
   "execution_count": 5,
   "metadata": {},
   "outputs": [
    {
     "data": {
      "text/plain": [
       "num_orders    0\n",
       "dtype: int64"
      ]
     },
     "execution_count": 5,
     "metadata": {},
     "output_type": "execute_result"
    }
   ],
   "source": [
    "df.isna().sum()"
   ]
  },
  {
   "cell_type": "markdown",
   "metadata": {},
   "source": [
    "Пропуски отсутствуют"
   ]
  },
  {
   "cell_type": "markdown",
   "metadata": {},
   "source": [
    "**Ресэмплирование**"
   ]
  },
  {
   "cell_type": "code",
   "execution_count": 6,
   "metadata": {},
   "outputs": [],
   "source": [
    "df = df.resample('1H').sum()"
   ]
  },
  {
   "cell_type": "markdown",
   "metadata": {},
   "source": [
    "***\n",
    "**Вывод:**\n",
    "- Данные соответствуют описанию;\n",
    "- Наименования столбцов корректны;\n",
    "- Пропуски отсутствуют;\n",
    "- Выполнено ресэмплирование по одному часу.\n",
    "***"
   ]
  },
  {
   "cell_type": "markdown",
   "metadata": {},
   "source": [
    "## Анализ"
   ]
  },
  {
   "cell_type": "markdown",
   "metadata": {},
   "source": [
    "**Проверка на хронологичность**"
   ]
  },
  {
   "cell_type": "code",
   "execution_count": 7,
   "metadata": {},
   "outputs": [
    {
     "data": {
      "text/plain": [
       "True"
      ]
     },
     "execution_count": 7,
     "metadata": {},
     "output_type": "execute_result"
    }
   ],
   "source": [
    "df.index.is_monotonic"
   ]
  },
  {
   "cell_type": "markdown",
   "metadata": {},
   "source": [
    "Данные приведены в хронологическом порядке"
   ]
  },
  {
   "cell_type": "markdown",
   "metadata": {},
   "source": [
    "**Общий осмотр данных**"
   ]
  },
  {
   "cell_type": "code",
   "execution_count": 8,
   "metadata": {
    "scrolled": true
   },
   "outputs": [
    {
     "data": {
      "image/png": "[encoded data removed]",
      "text/plain": [
       "<Figure size 432x288 with 1 Axes>"
      ]
     },
     "metadata": {
      "needs_background": "light"
     },
     "output_type": "display_data"
    }
   ],
   "source": [
    "df.plot();"
   ]
  },
  {
   "cell_type": "markdown",
   "metadata": {},
   "source": [
    "**Анализ параметров временного ряда**"
   ]
  },
  {
   "cell_type": "code",
   "execution_count": 9,
   "metadata": {},
   "outputs": [
    {
     "data": {
      "image/png": "[encoded data removed]",
      "text/plain": [
       "<Figure size 432x288 with 1 Axes>"
      ]
     },
     "metadata": {
      "needs_background": "light"
     },
     "output_type": "display_data"
    }
   ],
   "source": [
    "decomposed = seasonal_decompose(df)\n",
    "decomposed.trend.plot();"
   ]
  },
  {
   "cell_type": "markdown",
   "metadata": {},
   "source": [
    "График нестационарен так как его среднее количество заказов растёт"
   ]
  },
  {
   "cell_type": "code",
   "execution_count": 10,
   "metadata": {},
   "outputs": [
    {
     "data": {
      "image/png": "[encoded data removed]",
      "text/plain": [
       "<Figure size 432x288 with 1 Axes>"
      ]
     },
     "metadata": {
      "needs_background": "light"
     },
     "output_type": "display_data"
    }
   ],
   "source": [
    "decomposed.seasonal.plot();"
   ]
  },
  {
   "cell_type": "markdown",
   "metadata": {},
   "source": [
    "График трудно анализировать. Необходимо взять меньший промежуток времени. Возьмём первую неделю марта."
   ]
  },
  {
   "cell_type": "code",
   "execution_count": 11,
   "metadata": {},
   "outputs": [
    {
     "data": {
      "image/png": "[encoded data removed]",
      "text/plain": [
       "<Figure size 432x288 with 1 Axes>"
      ]
     },
     "metadata": {
      "needs_background": "light"
     },
     "output_type": "display_data"
    }
   ],
   "source": [
    "decomposed.seasonal['2018-03-01':'2018-03-07'].plot();"
   ]
  },
  {
   "cell_type": "markdown",
   "metadata": {},
   "source": [
    "По графику видно, что период графика составляет один день"
   ]
  },
  {
   "cell_type": "markdown",
   "metadata": {},
   "source": [
    "Построим также график временного ряда за 4 недели, ресэмплированного по 1 дню."
   ]
  },
  {
   "cell_type": "code",
   "execution_count": 12,
   "metadata": {},
   "outputs": [
    {
     "data": {
      "image/png": "[encoded data removed]",
      "text/plain": [
       "<Figure size 432x288 with 1 Axes>"
      ]
     },
     "metadata": {
      "needs_background": "light"
     },
     "output_type": "display_data"
    }
   ],
   "source": [
    "seasonal_decompose(df.resample('1D').sum()[:'2018-03-28']).seasonal.plot();"
   ]
  },
  {
   "cell_type": "markdown",
   "metadata": {},
   "source": [
    "По графику видно, что наибольшее количество заказов приходится на четверг и понедельник, а наименьшее количество заказов - на вторник и воскресенье."
   ]
  },
  {
   "cell_type": "code",
   "execution_count": 13,
   "metadata": {},
   "outputs": [
    {
     "data": {
      "text/plain": [
       "<AxesSubplot:xlabel='datetime'>"
      ]
     },
     "execution_count": 13,
     "metadata": {},
     "output_type": "execute_result"
    },
    {
     "data": {
      "image/png": "[encoded data removed]",
      "text/plain": [
       "<Figure size 432x288 with 1 Axes>"
      ]
     },
     "metadata": {
      "needs_background": "light"
     },
     "output_type": "display_data"
    }
   ],
   "source": [
    "decomposed.resid.plot()"
   ]
  },
  {
   "cell_type": "markdown",
   "metadata": {},
   "source": [
    "На графике есть несколько высоких значений."
   ]
  },
  {
   "cell_type": "markdown",
   "metadata": {},
   "source": [
    "**Проверка на стационарность временного ряда:**"
   ]
  },
  {
   "cell_type": "code",
   "execution_count": 14,
   "metadata": {},
   "outputs": [
    {
     "name": "stdout",
     "output_type": "stream",
     "text": [
      "Временной ряд стационарен\n"
     ]
    }
   ],
   "source": [
    "fuller = adfuller(df, autolag='AIC', store=False, regresults=False)\n",
    "if fuller[0] > fuller[4]['5%']:\n",
    "    print('Временной ряд не стационарен')\n",
    "else:\n",
    "    print('Временной ряд стационарен')"
   ]
  },
  {
   "cell_type": "markdown",
   "metadata": {},
   "source": [
    "***\n",
    "**Вывод:**\n",
    "- Временной ряд содержит данные за полугодовой период: с марта по август 2018 года;\n",
    "- Тренд временного ряда возрастает;\n",
    "- Период графика составляет один день;\n",
    "- Наибольшее количество заказов приходится на четверг и понедельник, а наименьшее количество заказов - на вторник и воскресенье.\n",
    "- На временном ряде есть несколько высоких значений.\n",
    "***"
   ]
  },
  {
   "cell_type": "markdown",
   "metadata": {},
   "source": [
    "## Обучение"
   ]
  },
  {
   "cell_type": "markdown",
   "metadata": {},
   "source": [
    "**Добавление дополнительных признаков**"
   ]
  },
  {
   "cell_type": "code",
   "execution_count": 15,
   "metadata": {},
   "outputs": [],
   "source": [
    "def add_features(df, max_lag):\n",
    "    df['dayofweek'] = df.index.dayofweek\n",
    "    df['hour'] = df.index.hour\n",
    "    for lag in range(max_lag):\n",
    "        df[f'lag_{lag + 1}'] = df['num_orders'].shift(lag + 1)"
   ]
  },
  {
   "cell_type": "code",
   "execution_count": 16,
   "metadata": {},
   "outputs": [],
   "source": [
    "add_features(df, lags_number)"
   ]
  },
  {
   "cell_type": "code",
   "execution_count": 17,
   "metadata": {},
   "outputs": [
    {
     "data": {
      "image/png": "[encoded data removed]",
      "text/plain": [
       "<Figure size 1080x504 with 1 Axes>"
      ]
     },
     "execution_count": 17,
     "metadata": {},
     "output_type": "execute_result"
    },
    {
     "data": {
      "image/png": "[encoded data removed]",
      "text/plain": [
       "<Figure size 1080x504 with 1 Axes>"
      ]
     },
     "metadata": {
      "needs_background": "light"
     },
     "output_type": "display_data"
    }
   ],
   "source": [
    "fig, ax = plt.subplots(nrows=1, ncols=1, figsize=(15, 7))\n",
    "plot_acf(df['num_orders'], ax=ax, lags=24*7, auto_ylims=True)"
   ]
  },
  {
   "cell_type": "markdown",
   "metadata": {},
   "source": [
    "**Выделение целевого признака**"
   ]
  },
  {
   "cell_type": "code",
   "execution_count": 18,
   "metadata": {},
   "outputs": [],
   "source": [
    "df = df.dropna()\n",
    "X = df.drop('num_orders', axis=1)\n",
    "y = df['num_orders']"
   ]
  },
  {
   "cell_type": "markdown",
   "metadata": {},
   "source": [
    "**Разбивка данных на выборки**"
   ]
  },
  {
   "cell_type": "code",
   "execution_count": 19,
   "metadata": {},
   "outputs": [],
   "source": [
    "X_train, X_test, y_train, y_test = train_test_split(X, y, test_size=0.1, shuffle=False)"
   ]
  },
  {
   "cell_type": "markdown",
   "metadata": {},
   "source": [
    "**Подготовка пайплайна**"
   ]
  },
  {
   "cell_type": "code",
   "execution_count": 20,
   "metadata": {},
   "outputs": [],
   "source": [
    "pipe_final = Pipeline([\n",
    "    ('prep', ColumnTransformer([('num', StandardScaler(), X_train.columns.tolist())], remainder='passthrough')),\n",
    "    ('models', DecisionTreeRegressor(random_state=RANDOM_STATE))\n",
    "])"
   ]
  },
  {
   "cell_type": "code",
   "execution_count": 21,
   "metadata": {},
   "outputs": [],
   "source": [
    "params = [\n",
    "    {\n",
    "        'models': [DecisionTreeRegressor(random_state=RANDOM_STATE)],\n",
    "        'models__max_depth': range(2, 11),\n",
    "        'models__min_samples_leaf': range(1, 10),\n",
    "        'prep__num': [StandardScaler(), MinMaxScaler(), RobustScaler(), 'passthrough']  \n",
    "    },\n",
    "    {\n",
    "        'models': [LinearRegression()],\n",
    "        'prep__num': [StandardScaler(), MinMaxScaler(), RobustScaler(), 'passthrough']  \n",
    "    }\n",
    "]"
   ]
  },
  {
   "cell_type": "code",
   "execution_count": 22,
   "metadata": {},
   "outputs": [],
   "source": [
    "tscv = TimeSeriesSplit(n_splits=5)\n",
    "grid = GridSearchCV(\n",
    "    pipe_final,\n",
    "    param_grid=params,\n",
    "    cv=tscv, \n",
    "    scoring='neg_root_mean_squared_error', \n",
    "    n_jobs=-1\n",
    ")"
   ]
  },
  {
   "cell_type": "code",
   "execution_count": 23,
   "metadata": {
    "scrolled": true
   },
   "outputs": [
    {
     "data": {
      "text/html": [
       "<style>#sk-container-id-1 {\n",
       "  /* Definition of color scheme common for light and dark mode */\n",
       "  --sklearn-color-text: black;\n",
       "  --sklearn-color-line: gray;\n",
       "  /* Definition of color scheme for unfitted estimators */\n",
       "  --sklearn-color-unfitted-level-0: #fff5e6;\n",
       "  --sklearn-color-unfitted-level-1: #f6e4d2;\n",
       "  --sklearn-color-unfitted-level-2: #ffe0b3;\n",
       "  --sklearn-color-unfitted-level-3: chocolate;\n",
       "  /* Definition of color scheme for fitted estimators */\n",
       "  --sklearn-color-fitted-level-0: #f0f8ff;\n",
       "  --sklearn-color-fitted-level-1: #d4ebff;\n",
       "  --sklearn-color-fitted-level-2: #b3dbfd;\n",
       "  --sklearn-color-fitted-level-3: cornflowerblue;\n",
       "\n",
       "  /* Specific color for light theme */\n",
       "  --sklearn-color-text-on-default-background: var(--sg-text-color, var(--theme-code-foreground, var(--jp-content-font-color1, black)));\n",
       "  --sklearn-color-background: var(--sg-background-color, var(--theme-background, var(--jp-layout-color0, white)));\n",
       "  --sklearn-color-border-box: var(--sg-text-color, var(--theme-code-foreground, var(--jp-content-font-color1, black)));\n",
       "  --sklearn-color-icon: #696969;\n",
       "\n",
       "  @media (prefers-color-scheme: dark) {\n",
       "    /* Redefinition of color scheme for dark theme */\n",
       "    --sklearn-color-text-on-default-background: var(--sg-text-color, var(--theme-code-foreground, var(--jp-content-font-color1, white)));\n",
       "    --sklearn-color-background: var(--sg-background-color, var(--theme-background, var(--jp-layout-color0, #111)));\n",
       "    --sklearn-color-border-box: var(--sg-text-color, var(--theme-code-foreground, var(--jp-content-font-color1, white)));\n",
       "    --sklearn-color-icon: #878787;\n",
       "  }\n",
       "}\n",
       "\n",
       "#sk-container-id-1 {\n",
       "  color: var(--sklearn-color-text);\n",
       "}\n",
       "\n",
       "#sk-container-id-1 pre {\n",
       "  padding: 0;\n",
       "}\n",
       "\n",
       "#sk-container-id-1 input.sk-hidden--visually {\n",
       "  border: 0;\n",
       "  clip: rect(1px 1px 1px 1px);\n",
       "  clip: rect(1px, 1px, 1px, 1px);\n",
       "  height: 1px;\n",
       "  margin: -1px;\n",
       "  overflow: hidden;\n",
       "  padding: 0;\n",
       "  position: absolute;\n",
       "  width: 1px;\n",
       "}\n",
       "\n",
       "#sk-container-id-1 div.sk-dashed-wrapped {\n",
       "  border: 1px dashed var(--sklearn-color-line);\n",
       "  margin: 0 0.4em 0.5em 0.4em;\n",
       "  box-sizing: border-box;\n",
       "  padding-bottom: 0.4em;\n",
       "  background-color: var(--sklearn-color-background);\n",
       "}\n",
       "\n",
       "#sk-container-id-1 div.sk-container {\n",
       "  /* jupyter's `normalize.less` sets `[hidden] { display: none; }`\n",
       "     but bootstrap.min.css set `[hidden] { display: none !important; }`\n",
       "     so we also need the `!important` here to be able to override the\n",
       "     default hidden behavior on the sphinx rendered scikit-learn.org.\n",
       "     See: https://github.com/scikit-learn/scikit-learn/issues/21755 */\n",
       "  display: inline-block !important;\n",
       "  position: relative;\n",
       "}\n",
       "\n",
       "#sk-container-id-1 div.sk-text-repr-fallback {\n",
       "  display: none;\n",
       "}\n",
       "\n",
       "div.sk-parallel-item,\n",
       "div.sk-serial,\n",
       "div.sk-item {\n",
       "  /* draw centered vertical line to link estimators */\n",
       "  background-image: linear-gradient(var(--sklearn-color-text-on-default-background), var(--sklearn-color-text-on-default-background));\n",
       "  background-size: 2px 100%;\n",
       "  background-repeat: no-repeat;\n",
       "  background-position: center center;\n",
       "}\n",
       "\n",
       "/* Parallel-specific style estimator block */\n",
       "\n",
       "#sk-container-id-1 div.sk-parallel-item::after {\n",
       "  content: \"\";\n",
       "  width: 100%;\n",
       "  border-bottom: 2px solid var(--sklearn-color-text-on-default-background);\n",
       "  flex-grow: 1;\n",
       "}\n",
       "\n",
       "#sk-container-id-1 div.sk-parallel {\n",
       "  display: flex;\n",
       "  align-items: stretch;\n",
       "  justify-content: center;\n",
       "  background-color: var(--sklearn-color-background);\n",
       "  position: relative;\n",
       "}\n",
       "\n",
       "#sk-container-id-1 div.sk-parallel-item {\n",
       "  display: flex;\n",
       "  flex-direction: column;\n",
       "}\n",
       "\n",
       "#sk-container-id-1 div.sk-parallel-item:first-child::after {\n",
       "  align-self: flex-end;\n",
       "  width: 50%;\n",
       "}\n",
       "\n",
       "#sk-container-id-1 div.sk-parallel-item:last-child::after {\n",
       "  align-self: flex-start;\n",
       "  width: 50%;\n",
       "}\n",
       "\n",
       "#sk-container-id-1 div.sk-parallel-item:only-child::after {\n",
       "  width: 0;\n",
       "}\n",
       "\n",
       "/* Serial-specific style estimator block */\n",
       "\n",
       "#sk-container-id-1 div.sk-serial {\n",
       "  display: flex;\n",
       "  flex-direction: column;\n",
       "  align-items: center;\n",
       "  background-color: var(--sklearn-color-background);\n",
       "  padding-right: 1em;\n",
       "  padding-left: 1em;\n",
       "}\n",
       "\n",
       "\n",
       "/* Toggleable style: style used for estimator/Pipeline/ColumnTransformer box that is\n",
       "clickable and can be expanded/collapsed.\n",
       "- Pipeline and ColumnTransformer use this feature and define the default style\n",
       "- Estimators will overwrite some part of the style using the `sk-estimator` class\n",
       "*/\n",
       "\n",
       "/* Pipeline and ColumnTransformer style (default) */\n",
       "\n",
       "#sk-container-id-1 div.sk-toggleable {\n",
       "  /* Default theme specific background. It is overwritten whether we have a\n",
       "  specific estimator or a Pipeline/ColumnTransformer */\n",
       "  background-color: var(--sklearn-color-background);\n",
       "}\n",
       "\n",
       "/* Toggleable label */\n",
       "#sk-container-id-1 label.sk-toggleable__label {\n",
       "  cursor: pointer;\n",
       "  display: block;\n",
       "  width: 100%;\n",
       "  margin-bottom: 0;\n",
       "  padding: 0.5em;\n",
       "  box-sizing: border-box;\n",
       "  text-align: center;\n",
       "}\n",
       "\n",
       "#sk-container-id-1 label.sk-toggleable__label-arrow:before {\n",
       "  /* Arrow on the left of the label */\n",
       "  content: \"▸\";\n",
       "  float: left;\n",
       "  margin-right: 0.25em;\n",
       "  color: var(--sklearn-color-icon);\n",
       "}\n",
       "\n",
       "#sk-container-id-1 label.sk-toggleable__label-arrow:hover:before {\n",
       "  color: var(--sklearn-color-text);\n",
       "}\n",
       "\n",
       "/* Toggleable content - dropdown */\n",
       "\n",
       "#sk-container-id-1 div.sk-toggleable__content {\n",
       "  max-height: 0;\n",
       "  max-width: 0;\n",
       "  overflow: hidden;\n",
       "  text-align: left;\n",
       "  /* unfitted */\n",
       "  background-color: var(--sklearn-color-unfitted-level-0);\n",
       "}\n",
       "\n",
       "#sk-container-id-1 div.sk-toggleable__content.fitted {\n",
       "  /* fitted */\n",
       "  background-color: var(--sklearn-color-fitted-level-0);\n",
       "}\n",
       "\n",
       "#sk-container-id-1 div.sk-toggleable__content pre {\n",
       "  margin: 0.2em;\n",
       "  border-radius: 0.25em;\n",
       "  color: var(--sklearn-color-text);\n",
       "  /* unfitted */\n",
       "  background-color: var(--sklearn-color-unfitted-level-0);\n",
       "}\n",
       "\n",
       "#sk-container-id-1 div.sk-toggleable__content.fitted pre {\n",
       "  /* unfitted */\n",
       "  background-color: var(--sklearn-color-fitted-level-0);\n",
       "}\n",
       "\n",
       "#sk-container-id-1 input.sk-toggleable__control:checked~div.sk-toggleable__content {\n",
       "  /* Expand drop-down */\n",
       "  max-height: 200px;\n",
       "  max-width: 100%;\n",
       "  overflow: auto;\n",
       "}\n",
       "\n",
       "#sk-container-id-1 input.sk-toggleable__control:checked~label.sk-toggleable__label-arrow:before {\n",
       "  content: \"▾\";\n",
       "}\n",
       "\n",
       "/* Pipeline/ColumnTransformer-specific style */\n",
       "\n",
       "#sk-container-id-1 div.sk-label input.sk-toggleable__control:checked~label.sk-toggleable__label {\n",
       "  color: var(--sklearn-color-text);\n",
       "  background-color: var(--sklearn-color-unfitted-level-2);\n",
       "}\n",
       "\n",
       "#sk-container-id-1 div.sk-label.fitted input.sk-toggleable__control:checked~label.sk-toggleable__label {\n",
       "  background-color: var(--sklearn-color-fitted-level-2);\n",
       "}\n",
       "\n",
       "/* Estimator-specific style */\n",
       "\n",
       "/* Colorize estimator box */\n",
       "#sk-container-id-1 div.sk-estimator input.sk-toggleable__control:checked~label.sk-toggleable__label {\n",
       "  /* unfitted */\n",
       "  background-color: var(--sklearn-color-unfitted-level-2);\n",
       "}\n",
       "\n",
       "#sk-container-id-1 div.sk-estimator.fitted input.sk-toggleable__control:checked~label.sk-toggleable__label {\n",
       "  /* fitted */\n",
       "  background-color: var(--sklearn-color-fitted-level-2);\n",
       "}\n",
       "\n",
       "#sk-container-id-1 div.sk-label label.sk-toggleable__label,\n",
       "#sk-container-id-1 div.sk-label label {\n",
       "  /* The background is the default theme color */\n",
       "  color: var(--sklearn-color-text-on-default-background);\n",
       "}\n",
       "\n",
       "/* On hover, darken the color of the background */\n",
       "#sk-container-id-1 div.sk-label:hover label.sk-toggleable__label {\n",
       "  color: var(--sklearn-color-text);\n",
       "  background-color: var(--sklearn-color-unfitted-level-2);\n",
       "}\n",
       "\n",
       "/* Label box, darken color on hover, fitted */\n",
       "#sk-container-id-1 div.sk-label.fitted:hover label.sk-toggleable__label.fitted {\n",
       "  color: var(--sklearn-color-text);\n",
       "  background-color: var(--sklearn-color-fitted-level-2);\n",
       "}\n",
       "\n",
       "/* Estimator label */\n",
       "\n",
       "#sk-container-id-1 div.sk-label label {\n",
       "  font-family: monospace;\n",
       "  font-weight: bold;\n",
       "  display: inline-block;\n",
       "  line-height: 1.2em;\n",
       "}\n",
       "\n",
       "#sk-container-id-1 div.sk-label-container {\n",
       "  text-align: center;\n",
       "}\n",
       "\n",
       "/* Estimator-specific */\n",
       "#sk-container-id-1 div.sk-estimator {\n",
       "  font-family: monospace;\n",
       "  border: 1px dotted var(--sklearn-color-border-box);\n",
       "  border-radius: 0.25em;\n",
       "  box-sizing: border-box;\n",
       "  margin-bottom: 0.5em;\n",
       "  /* unfitted */\n",
       "  background-color: var(--sklearn-color-unfitted-level-0);\n",
       "}\n",
       "\n",
       "#sk-container-id-1 div.sk-estimator.fitted {\n",
       "  /* fitted */\n",
       "  background-color: var(--sklearn-color-fitted-level-0);\n",
       "}\n",
       "\n",
       "/* on hover */\n",
       "#sk-container-id-1 div.sk-estimator:hover {\n",
       "  /* unfitted */\n",
       "  background-color: var(--sklearn-color-unfitted-level-2);\n",
       "}\n",
       "\n",
       "#sk-container-id-1 div.sk-estimator.fitted:hover {\n",
       "  /* fitted */\n",
       "  background-color: var(--sklearn-color-fitted-level-2);\n",
       "}\n",
       "\n",
       "/* Specification for estimator info (e.g. \"i\" and \"?\") */\n",
       "\n",
       "/* Common style for \"i\" and \"?\" */\n",
       "\n",
       ".sk-estimator-doc-link,\n",
       "a:link.sk-estimator-doc-link,\n",
       "a:visited.sk-estimator-doc-link {\n",
       "  float: right;\n",
       "  font-size: smaller;\n",
       "  line-height: 1em;\n",
       "  font-family: monospace;\n",
       "  background-color: var(--sklearn-color-background);\n",
       "  border-radius: 1em;\n",
       "  height: 1em;\n",
       "  width: 1em;\n",
       "  text-decoration: none !important;\n",
       "  margin-left: 1ex;\n",
       "  /* unfitted */\n",
       "  border: var(--sklearn-color-unfitted-level-1) 1pt solid;\n",
       "  color: var(--sklearn-color-unfitted-level-1);\n",
       "}\n",
       "\n",
       ".sk-estimator-doc-link.fitted,\n",
       "a:link.sk-estimator-doc-link.fitted,\n",
       "a:visited.sk-estimator-doc-link.fitted {\n",
       "  /* fitted */\n",
       "  border: var(--sklearn-color-fitted-level-1) 1pt solid;\n",
       "  color: var(--sklearn-color-fitted-level-1);\n",
       "}\n",
       "\n",
       "/* On hover */\n",
       "div.sk-estimator:hover .sk-estimator-doc-link:hover,\n",
       ".sk-estimator-doc-link:hover,\n",
       "div.sk-label-container:hover .sk-estimator-doc-link:hover,\n",
       ".sk-estimator-doc-link:hover {\n",
       "  /* unfitted */\n",
       "  background-color: var(--sklearn-color-unfitted-level-3);\n",
       "  color: var(--sklearn-color-background);\n",
       "  text-decoration: none;\n",
       "}\n",
       "\n",
       "div.sk-estimator.fitted:hover .sk-estimator-doc-link.fitted:hover,\n",
       ".sk-estimator-doc-link.fitted:hover,\n",
       "div.sk-label-container:hover .sk-estimator-doc-link.fitted:hover,\n",
       ".sk-estimator-doc-link.fitted:hover {\n",
       "  /* fitted */\n",
       "  background-color: var(--sklearn-color-fitted-level-3);\n",
       "  color: var(--sklearn-color-background);\n",
       "  text-decoration: none;\n",
       "}\n",
       "\n",
       "/* Span, style for the box shown on hovering the info icon */\n",
       ".sk-estimator-doc-link span {\n",
       "  display: none;\n",
       "  z-index: 9999;\n",
       "  position: relative;\n",
       "  font-weight: normal;\n",
       "  right: .2ex;\n",
       "  padding: .5ex;\n",
       "  margin: .5ex;\n",
       "  width: min-content;\n",
       "  min-width: 20ex;\n",
       "  max-width: 50ex;\n",
       "  color: var(--sklearn-color-text);\n",
       "  box-shadow: 2pt 2pt 4pt #999;\n",
       "  /* unfitted */\n",
       "  background: var(--sklearn-color-unfitted-level-0);\n",
       "  border: .5pt solid var(--sklearn-color-unfitted-level-3);\n",
       "}\n",
       "\n",
       ".sk-estimator-doc-link.fitted span {\n",
       "  /* fitted */\n",
       "  background: var(--sklearn-color-fitted-level-0);\n",
       "  border: var(--sklearn-color-fitted-level-3);\n",
       "}\n",
       "\n",
       ".sk-estimator-doc-link:hover span {\n",
       "  display: block;\n",
       "}\n",
       "\n",
       "/* \"?\"-specific style due to the `<a>` HTML tag */\n",
       "\n",
       "#sk-container-id-1 a.estimator_doc_link {\n",
       "  float: right;\n",
       "  font-size: 1rem;\n",
       "  line-height: 1em;\n",
       "  font-family: monospace;\n",
       "  background-color: var(--sklearn-color-background);\n",
       "  border-radius: 1rem;\n",
       "  height: 1rem;\n",
       "  width: 1rem;\n",
       "  text-decoration: none;\n",
       "  /* unfitted */\n",
       "  color: var(--sklearn-color-unfitted-level-1);\n",
       "  border: var(--sklearn-color-unfitted-level-1) 1pt solid;\n",
       "}\n",
       "\n",
       "#sk-container-id-1 a.estimator_doc_link.fitted {\n",
       "  /* fitted */\n",
       "  border: var(--sklearn-color-fitted-level-1) 1pt solid;\n",
       "  color: var(--sklearn-color-fitted-level-1);\n",
       "}\n",
       "\n",
       "/* On hover */\n",
       "#sk-container-id-1 a.estimator_doc_link:hover {\n",
       "  /* unfitted */\n",
       "  background-color: var(--sklearn-color-unfitted-level-3);\n",
       "  color: var(--sklearn-color-background);\n",
       "  text-decoration: none;\n",
       "}\n",
       "\n",
       "#sk-container-id-1 a.estimator_doc_link.fitted:hover {\n",
       "  /* fitted */\n",
       "  background-color: var(--sklearn-color-fitted-level-3);\n",
       "}\n",
       "</style><div id=\"sk-container-id-1\" class=\"sk-top-container\"><div class=\"sk-text-repr-fallback\"><pre>GridSearchCV(cv=TimeSeriesSplit(gap=0, max_train_size=None, n_splits=5, test_size=None),\n",
       "             estimator=Pipeline(steps=[(&#x27;prep&#x27;,\n",
       "                                        ColumnTransformer(remainder=&#x27;passthrough&#x27;,\n",
       "                                                          transformers=[(&#x27;num&#x27;,\n",
       "                                                                         StandardScaler(),\n",
       "                                                                         [&#x27;dayofweek&#x27;,\n",
       "                                                                          &#x27;hour&#x27;,\n",
       "                                                                          &#x27;lag_1&#x27;,\n",
       "                                                                          &#x27;lag_2&#x27;,\n",
       "                                                                          &#x27;lag_3&#x27;,\n",
       "                                                                          &#x27;lag_4&#x27;,\n",
       "                                                                          &#x27;lag_5&#x27;,\n",
       "                                                                          &#x27;lag_6&#x27;,\n",
       "                                                                          &#x27;lag_7&#x27;,\n",
       "                                                                          &#x27;lag_8&#x27;,\n",
       "                                                                          &#x27;lag_9&#x27;,\n",
       "                                                                          &#x27;lag_10&#x27;,\n",
       "                                                                          &#x27;lag_11&#x27;,\n",
       "                                                                          &#x27;lag_12&#x27;,\n",
       "                                                                          &#x27;lag_13&#x27;,\n",
       "                                                                          &#x27;lag_14&#x27;,\n",
       "                                                                          &#x27;lag_15&#x27;,\n",
       "                                                                          &#x27;lag_...\n",
       "             param_grid=[{&#x27;models&#x27;: [DecisionTreeRegressor(random_state=42)],\n",
       "                          &#x27;models__max_depth&#x27;: range(2, 11),\n",
       "                          &#x27;models__min_samples_leaf&#x27;: range(1, 10),\n",
       "                          &#x27;prep__num&#x27;: [StandardScaler(), MinMaxScaler(),\n",
       "                                        RobustScaler(), &#x27;passthrough&#x27;]},\n",
       "                         {&#x27;models&#x27;: [LinearRegression()],\n",
       "                          &#x27;prep__num&#x27;: [StandardScaler(), MinMaxScaler(),\n",
       "                                        RobustScaler(), &#x27;passthrough&#x27;]}],\n",
       "             scoring=&#x27;neg_root_mean_squared_error&#x27;)</pre><b>In a Jupyter environment, please rerun this cell to show the HTML representation or trust the notebook. <br />On GitHub, the HTML representation is unable to render, please try loading this page with nbviewer.org.</b></div><div class=\"sk-container\" hidden><div class=\"sk-item sk-dashed-wrapped\"><div class=\"sk-label-container\"><div class=\"sk-label fitted sk-toggleable\"><input class=\"sk-toggleable__control sk-hidden--visually\" id=\"sk-estimator-id-1\" type=\"checkbox\" ><label for=\"sk-estimator-id-1\" class=\"sk-toggleable__label fitted sk-toggleable__label-arrow fitted\">&nbsp;&nbsp;GridSearchCV<a class=\"sk-estimator-doc-link fitted\" rel=\"noreferrer\" target=\"_blank\" href=\"https://scikit-learn.org/1.5/modules/generated/sklearn.model_selection.GridSearchCV.html\">?<span>Documentation for GridSearchCV</span></a><span class=\"sk-estimator-doc-link fitted\">i<span>Fitted</span></span></label><div class=\"sk-toggleable__content fitted\"><pre>GridSearchCV(cv=TimeSeriesSplit(gap=0, max_train_size=None, n_splits=5, test_size=None),\n",
       "             estimator=Pipeline(steps=[(&#x27;prep&#x27;,\n",
       "                                        ColumnTransformer(remainder=&#x27;passthrough&#x27;,\n",
       "                                                          transformers=[(&#x27;num&#x27;,\n",
       "                                                                         StandardScaler(),\n",
       "                                                                         [&#x27;dayofweek&#x27;,\n",
       "                                                                          &#x27;hour&#x27;,\n",
       "                                                                          &#x27;lag_1&#x27;,\n",
       "                                                                          &#x27;lag_2&#x27;,\n",
       "                                                                          &#x27;lag_3&#x27;,\n",
       "                                                                          &#x27;lag_4&#x27;,\n",
       "                                                                          &#x27;lag_5&#x27;,\n",
       "                                                                          &#x27;lag_6&#x27;,\n",
       "                                                                          &#x27;lag_7&#x27;,\n",
       "                                                                          &#x27;lag_8&#x27;,\n",
       "                                                                          &#x27;lag_9&#x27;,\n",
       "                                                                          &#x27;lag_10&#x27;,\n",
       "                                                                          &#x27;lag_11&#x27;,\n",
       "                                                                          &#x27;lag_12&#x27;,\n",
       "                                                                          &#x27;lag_13&#x27;,\n",
       "                                                                          &#x27;lag_14&#x27;,\n",
       "                                                                          &#x27;lag_15&#x27;,\n",
       "                                                                          &#x27;lag_...\n",
       "             param_grid=[{&#x27;models&#x27;: [DecisionTreeRegressor(random_state=42)],\n",
       "                          &#x27;models__max_depth&#x27;: range(2, 11),\n",
       "                          &#x27;models__min_samples_leaf&#x27;: range(1, 10),\n",
       "                          &#x27;prep__num&#x27;: [StandardScaler(), MinMaxScaler(),\n",
       "                                        RobustScaler(), &#x27;passthrough&#x27;]},\n",
       "                         {&#x27;models&#x27;: [LinearRegression()],\n",
       "                          &#x27;prep__num&#x27;: [StandardScaler(), MinMaxScaler(),\n",
       "                                        RobustScaler(), &#x27;passthrough&#x27;]}],\n",
       "             scoring=&#x27;neg_root_mean_squared_error&#x27;)</pre></div> </div></div><div class=\"sk-parallel\"><div class=\"sk-parallel-item\"><div class=\"sk-item\"><div class=\"sk-label-container\"><div class=\"sk-label fitted sk-toggleable\"><input class=\"sk-toggleable__control sk-hidden--visually\" id=\"sk-estimator-id-2\" type=\"checkbox\" ><label for=\"sk-estimator-id-2\" class=\"sk-toggleable__label fitted sk-toggleable__label-arrow fitted\">best_estimator_: Pipeline</label><div class=\"sk-toggleable__content fitted\"><pre>Pipeline(steps=[(&#x27;prep&#x27;,\n",
       "                 ColumnTransformer(remainder=&#x27;passthrough&#x27;,\n",
       "                                   transformers=[(&#x27;num&#x27;, StandardScaler(),\n",
       "                                                  [&#x27;dayofweek&#x27;, &#x27;hour&#x27;, &#x27;lag_1&#x27;,\n",
       "                                                   &#x27;lag_2&#x27;, &#x27;lag_3&#x27;, &#x27;lag_4&#x27;,\n",
       "                                                   &#x27;lag_5&#x27;, &#x27;lag_6&#x27;, &#x27;lag_7&#x27;,\n",
       "                                                   &#x27;lag_8&#x27;, &#x27;lag_9&#x27;, &#x27;lag_10&#x27;,\n",
       "                                                   &#x27;lag_11&#x27;, &#x27;lag_12&#x27;, &#x27;lag_13&#x27;,\n",
       "                                                   &#x27;lag_14&#x27;, &#x27;lag_15&#x27;, &#x27;lag_16&#x27;,\n",
       "                                                   &#x27;lag_17&#x27;, &#x27;lag_18&#x27;, &#x27;lag_19&#x27;,\n",
       "                                                   &#x27;lag_20&#x27;, &#x27;lag_21&#x27;, &#x27;lag_22&#x27;,\n",
       "                                                   &#x27;lag_23&#x27;, &#x27;lag_24&#x27;, &#x27;lag_25&#x27;,\n",
       "                                                   &#x27;lag_26&#x27;, &#x27;lag_27&#x27;, &#x27;lag_28&#x27;, ...])])),\n",
       "                (&#x27;models&#x27;, LinearRegression())])</pre></div> </div></div><div class=\"sk-serial\"><div class=\"sk-item\"><div class=\"sk-serial\"><div class=\"sk-item sk-dashed-wrapped\"><div class=\"sk-label-container\"><div class=\"sk-label fitted sk-toggleable\"><input class=\"sk-toggleable__control sk-hidden--visually\" id=\"sk-estimator-id-3\" type=\"checkbox\" ><label for=\"sk-estimator-id-3\" class=\"sk-toggleable__label fitted sk-toggleable__label-arrow fitted\">&nbsp;prep: ColumnTransformer<a class=\"sk-estimator-doc-link fitted\" rel=\"noreferrer\" target=\"_blank\" href=\"https://scikit-learn.org/1.5/modules/generated/sklearn.compose.ColumnTransformer.html\">?<span>Documentation for prep: ColumnTransformer</span></a></label><div class=\"sk-toggleable__content fitted\"><pre>ColumnTransformer(remainder=&#x27;passthrough&#x27;,\n",
       "                  transformers=[(&#x27;num&#x27;, StandardScaler(),\n",
       "                                 [&#x27;dayofweek&#x27;, &#x27;hour&#x27;, &#x27;lag_1&#x27;, &#x27;lag_2&#x27;,\n",
       "                                  &#x27;lag_3&#x27;, &#x27;lag_4&#x27;, &#x27;lag_5&#x27;, &#x27;lag_6&#x27;, &#x27;lag_7&#x27;,\n",
       "                                  &#x27;lag_8&#x27;, &#x27;lag_9&#x27;, &#x27;lag_10&#x27;, &#x27;lag_11&#x27;,\n",
       "                                  &#x27;lag_12&#x27;, &#x27;lag_13&#x27;, &#x27;lag_14&#x27;, &#x27;lag_15&#x27;,\n",
       "                                  &#x27;lag_16&#x27;, &#x27;lag_17&#x27;, &#x27;lag_18&#x27;, &#x27;lag_19&#x27;,\n",
       "                                  &#x27;lag_20&#x27;, &#x27;lag_21&#x27;, &#x27;lag_22&#x27;, &#x27;lag_23&#x27;,\n",
       "                                  &#x27;lag_24&#x27;, &#x27;lag_25&#x27;, &#x27;lag_26&#x27;, &#x27;lag_27&#x27;,\n",
       "                                  &#x27;lag_28&#x27;, ...])])</pre></div> </div></div><div class=\"sk-parallel\"><div class=\"sk-parallel-item\"><div class=\"sk-item\"><div class=\"sk-label-container\"><div class=\"sk-label fitted sk-toggleable\"><input class=\"sk-toggleable__control sk-hidden--visually\" id=\"sk-estimator-id-4\" type=\"checkbox\" ><label for=\"sk-estimator-id-4\" class=\"sk-toggleable__label fitted sk-toggleable__label-arrow fitted\">num</label><div class=\"sk-toggleable__content fitted\"><pre>[&#x27;dayofweek&#x27;, &#x27;hour&#x27;, &#x27;lag_1&#x27;, &#x27;lag_2&#x27;, &#x27;lag_3&#x27;, &#x27;lag_4&#x27;, &#x27;lag_5&#x27;, &#x27;lag_6&#x27;, &#x27;lag_7&#x27;, &#x27;lag_8&#x27;, &#x27;lag_9&#x27;, &#x27;lag_10&#x27;, &#x27;lag_11&#x27;, &#x27;lag_12&#x27;, &#x27;lag_13&#x27;, &#x27;lag_14&#x27;, &#x27;lag_15&#x27;, &#x27;lag_16&#x27;, &#x27;lag_17&#x27;, &#x27;lag_18&#x27;, &#x27;lag_19&#x27;, &#x27;lag_20&#x27;, &#x27;lag_21&#x27;, &#x27;lag_22&#x27;, &#x27;lag_23&#x27;, &#x27;lag_24&#x27;, &#x27;lag_25&#x27;, &#x27;lag_26&#x27;, &#x27;lag_27&#x27;, &#x27;lag_28&#x27;, &#x27;lag_29&#x27;, &#x27;lag_30&#x27;, &#x27;lag_31&#x27;, &#x27;lag_32&#x27;, &#x27;lag_33&#x27;, &#x27;lag_34&#x27;, &#x27;lag_35&#x27;, &#x27;lag_36&#x27;, &#x27;lag_37&#x27;, &#x27;lag_38&#x27;, &#x27;lag_39&#x27;, &#x27;lag_40&#x27;, &#x27;lag_41&#x27;, &#x27;lag_42&#x27;, &#x27;lag_43&#x27;, &#x27;lag_44&#x27;, &#x27;lag_45&#x27;, &#x27;lag_46&#x27;, &#x27;lag_47&#x27;, &#x27;lag_48&#x27;, &#x27;lag_49&#x27;, &#x27;lag_50&#x27;, &#x27;lag_51&#x27;, &#x27;lag_52&#x27;, &#x27;lag_53&#x27;, &#x27;lag_54&#x27;, &#x27;lag_55&#x27;, &#x27;lag_56&#x27;, &#x27;lag_57&#x27;, &#x27;lag_58&#x27;, &#x27;lag_59&#x27;, &#x27;lag_60&#x27;, &#x27;lag_61&#x27;, &#x27;lag_62&#x27;, &#x27;lag_63&#x27;, &#x27;lag_64&#x27;, &#x27;lag_65&#x27;, &#x27;lag_66&#x27;, &#x27;lag_67&#x27;, &#x27;lag_68&#x27;, &#x27;lag_69&#x27;, &#x27;lag_70&#x27;, &#x27;lag_71&#x27;, &#x27;lag_72&#x27;, &#x27;lag_73&#x27;, &#x27;lag_74&#x27;, &#x27;lag_75&#x27;, &#x27;lag_76&#x27;, &#x27;lag_77&#x27;, &#x27;lag_78&#x27;, &#x27;lag_79&#x27;, &#x27;lag_80&#x27;, &#x27;lag_81&#x27;, &#x27;lag_82&#x27;, &#x27;lag_83&#x27;, &#x27;lag_84&#x27;, &#x27;lag_85&#x27;, &#x27;lag_86&#x27;, &#x27;lag_87&#x27;, &#x27;lag_88&#x27;, &#x27;lag_89&#x27;, &#x27;lag_90&#x27;, &#x27;lag_91&#x27;, &#x27;lag_92&#x27;, &#x27;lag_93&#x27;, &#x27;lag_94&#x27;, &#x27;lag_95&#x27;, &#x27;lag_96&#x27;, &#x27;lag_97&#x27;, &#x27;lag_98&#x27;, &#x27;lag_99&#x27;, &#x27;lag_100&#x27;, &#x27;lag_101&#x27;, &#x27;lag_102&#x27;, &#x27;lag_103&#x27;, &#x27;lag_104&#x27;, &#x27;lag_105&#x27;, &#x27;lag_106&#x27;, &#x27;lag_107&#x27;, &#x27;lag_108&#x27;, &#x27;lag_109&#x27;, &#x27;lag_110&#x27;, &#x27;lag_111&#x27;, &#x27;lag_112&#x27;, &#x27;lag_113&#x27;, &#x27;lag_114&#x27;, &#x27;lag_115&#x27;, &#x27;lag_116&#x27;, &#x27;lag_117&#x27;, &#x27;lag_118&#x27;, &#x27;lag_119&#x27;, &#x27;lag_120&#x27;, &#x27;lag_121&#x27;, &#x27;lag_122&#x27;, &#x27;lag_123&#x27;, &#x27;lag_124&#x27;, &#x27;lag_125&#x27;, &#x27;lag_126&#x27;, &#x27;lag_127&#x27;, &#x27;lag_128&#x27;, &#x27;lag_129&#x27;, &#x27;lag_130&#x27;, &#x27;lag_131&#x27;, &#x27;lag_132&#x27;, &#x27;lag_133&#x27;, &#x27;lag_134&#x27;, &#x27;lag_135&#x27;, &#x27;lag_136&#x27;, &#x27;lag_137&#x27;, &#x27;lag_138&#x27;, &#x27;lag_139&#x27;, &#x27;lag_140&#x27;, &#x27;lag_141&#x27;, &#x27;lag_142&#x27;, &#x27;lag_143&#x27;, &#x27;lag_144&#x27;, &#x27;lag_145&#x27;, &#x27;lag_146&#x27;, &#x27;lag_147&#x27;, &#x27;lag_148&#x27;, &#x27;lag_149&#x27;, &#x27;lag_150&#x27;, &#x27;lag_151&#x27;, &#x27;lag_152&#x27;, &#x27;lag_153&#x27;, &#x27;lag_154&#x27;, &#x27;lag_155&#x27;, &#x27;lag_156&#x27;, &#x27;lag_157&#x27;, &#x27;lag_158&#x27;, &#x27;lag_159&#x27;, &#x27;lag_160&#x27;, &#x27;lag_161&#x27;, &#x27;lag_162&#x27;, &#x27;lag_163&#x27;, &#x27;lag_164&#x27;, &#x27;lag_165&#x27;, &#x27;lag_166&#x27;, &#x27;lag_167&#x27;, &#x27;lag_168&#x27;]</pre></div> </div></div><div class=\"sk-serial\"><div class=\"sk-item\"><div class=\"sk-estimator fitted sk-toggleable\"><input class=\"sk-toggleable__control sk-hidden--visually\" id=\"sk-estimator-id-5\" type=\"checkbox\" ><label for=\"sk-estimator-id-5\" class=\"sk-toggleable__label fitted sk-toggleable__label-arrow fitted\">&nbsp;StandardScaler<a class=\"sk-estimator-doc-link fitted\" rel=\"noreferrer\" target=\"_blank\" href=\"https://scikit-learn.org/1.5/modules/generated/sklearn.preprocessing.StandardScaler.html\">?<span>Documentation for StandardScaler</span></a></label><div class=\"sk-toggleable__content fitted\"><pre>StandardScaler()</pre></div> </div></div></div></div></div><div class=\"sk-parallel-item\"><div class=\"sk-item\"><div class=\"sk-label-container\"><div class=\"sk-label fitted sk-toggleable\"><input class=\"sk-toggleable__control sk-hidden--visually\" id=\"sk-estimator-id-6\" type=\"checkbox\" ><label for=\"sk-estimator-id-6\" class=\"sk-toggleable__label fitted sk-toggleable__label-arrow fitted\">remainder</label><div class=\"sk-toggleable__content fitted\"><pre>[]</pre></div> </div></div><div class=\"sk-serial\"><div class=\"sk-item\"><div class=\"sk-estimator fitted sk-toggleable\"><input class=\"sk-toggleable__control sk-hidden--visually\" id=\"sk-estimator-id-7\" type=\"checkbox\" ><label for=\"sk-estimator-id-7\" class=\"sk-toggleable__label fitted sk-toggleable__label-arrow fitted\">passthrough</label><div class=\"sk-toggleable__content fitted\"><pre>passthrough</pre></div> </div></div></div></div></div></div></div><div class=\"sk-item\"><div class=\"sk-estimator fitted sk-toggleable\"><input class=\"sk-toggleable__control sk-hidden--visually\" id=\"sk-estimator-id-8\" type=\"checkbox\" ><label for=\"sk-estimator-id-8\" class=\"sk-toggleable__label fitted sk-toggleable__label-arrow fitted\">&nbsp;LinearRegression<a class=\"sk-estimator-doc-link fitted\" rel=\"noreferrer\" target=\"_blank\" href=\"https://scikit-learn.org/1.5/modules/generated/sklearn.linear_model.LinearRegression.html\">?<span>Documentation for LinearRegression</span></a></label><div class=\"sk-toggleable__content fitted\"><pre>LinearRegression()</pre></div> </div></div></div></div></div></div></div></div></div></div></div>"
      ],
      "text/plain": [
       "GridSearchCV(cv=TimeSeriesSplit(gap=0, max_train_size=None, n_splits=5, test_size=None),\n",
       "             estimator=Pipeline(steps=[('prep',\n",
       "                                        ColumnTransformer(remainder='passthrough',\n",
       "                                                          transformers=[('num',\n",
       "                                                                         StandardScaler(),\n",
       "                                                                         ['dayofweek',\n",
       "                                                                          'hour',\n",
       "                                                                          'lag_1',\n",
       "                                                                          'lag_2',\n",
       "                                                                          'lag_3',\n",
       "                                                                          'lag_4',\n",
       "                                                                          'lag_5',\n",
       "                                                                          'lag_6',\n",
       "                                                                          'lag_7',\n",
       "                                                                          'lag_8',\n",
       "                                                                          'lag_9',\n",
       "                                                                          'lag_10',\n",
       "                                                                          'lag_11',\n",
       "                                                                          'lag_12',\n",
       "                                                                          'lag_13',\n",
       "                                                                          'lag_14',\n",
       "                                                                          'lag_15',\n",
       "                                                                          'lag_...\n",
       "             param_grid=[{'models': [DecisionTreeRegressor(random_state=42)],\n",
       "                          'models__max_depth': range(2, 11),\n",
       "                          'models__min_samples_leaf': range(1, 10),\n",
       "                          'prep__num': [StandardScaler(), MinMaxScaler(),\n",
       "                                        RobustScaler(), 'passthrough']},\n",
       "                         {'models': [LinearRegression()],\n",
       "                          'prep__num': [StandardScaler(), MinMaxScaler(),\n",
       "                                        RobustScaler(), 'passthrough']}],\n",
       "             scoring='neg_root_mean_squared_error')"
      ]
     },
     "execution_count": 23,
     "metadata": {},
     "output_type": "execute_result"
    }
   ],
   "source": [
    "grid.fit(X_train, y_train)"
   ]
  },
  {
   "cell_type": "code",
   "execution_count": 24,
   "metadata": {},
   "outputs": [
    {
     "name": "stdout",
     "output_type": "stream",
     "text": [
      "Лучшая модель - LinearRegression() \n",
      "Лучшая метрика 22.69\n"
     ]
    }
   ],
   "source": [
    "print(f'Лучшая модель -', grid.best_estimator_['models'], f'\\nЛучшая метрика {round(- grid.best_score_, 2)}')"
   ]
  },
  {
   "cell_type": "markdown",
   "metadata": {},
   "source": [
    "***\n",
    "**Вывод:**\n",
    "- Добавлены дополнительные признаки;\n",
    "- Построен пайплайн;\n",
    "- В пайплайне использовано несколько моделей с разными гиперпараметрами;\n",
    "- Выбор моделей продиктован информативнотью и интерпритируемостью признаков\n",
    "- Лучшая модель - линейная регрессия;\n",
    "- Метрика обучения лучшей модели на обучающей выборке - 22.69\n",
    "***"
   ]
  },
  {
   "cell_type": "markdown",
   "metadata": {},
   "source": [
    "## Тестирование"
   ]
  },
  {
   "cell_type": "markdown",
   "metadata": {},
   "source": [
    "**Проверка найденной лучшей модели с лучшими гиперпараметрами на тестовой выборке:**"
   ]
  },
  {
   "cell_type": "code",
   "execution_count": 25,
   "metadata": {},
   "outputs": [
    {
     "data": {
      "text/plain": [
       "34.26"
      ]
     },
     "execution_count": 25,
     "metadata": {},
     "output_type": "execute_result"
    }
   ],
   "source": [
    "round(root_mean_squared_error(y_test, grid.best_estimator_.predict(X_test)), 2)"
   ]
  },
  {
   "cell_type": "markdown",
   "metadata": {},
   "source": [
    "Метрика соответствует требованиям заказчика"
   ]
  },
  {
   "cell_type": "markdown",
   "metadata": {},
   "source": [
    "**Построим график важности факторов**"
   ]
  },
  {
   "cell_type": "code",
   "execution_count": 26,
   "metadata": {},
   "outputs": [],
   "source": [
    "try:\n",
    "    result = pd.DataFrame(index=df.columns[1:], data=grid.best_estimator_['models'].coef_)\n",
    "except:\n",
    "    result = pd.DataFrame(index=df.columns[1:], data=grid.best_estimator_['models'].feature_importances_)"
   ]
  },
  {
   "cell_type": "code",
   "execution_count": 27,
   "metadata": {},
   "outputs": [
    {
     "data": {
      "image/png": "[encoded data removed]",
      "text/plain": [
       "<Figure size 720x2160 with 1 Axes>"
      ]
     },
     "metadata": {
      "needs_background": "light"
     },
     "output_type": "display_data"
    }
   ],
   "source": [
    "plt.figure(figsize=(10, 30))\n",
    "sns.barplot(x=result[0].sort_values(ascending=False), y=result.index);"
   ]
  },
  {
   "cell_type": "markdown",
   "metadata": {},
   "source": [
    "***\n",
    "**Вывод:**\n",
    "- Метрика лучшей модели на тестовой выборке - 34.26;\n",
    "- Построен график важности факторов."
   ]
  },
  {
   "cell_type": "markdown",
   "metadata": {},
   "source": [
    "***\n",
    "# Вывод\n",
    "- **Подготовка данных:**\n",
    "    - Данные соответствуют описанию;\n",
    "    - Наименования столбцов корректны;\n",
    "    - Пропуски отсутствуют;\n",
    "    - Выполнено ресэмплирование по одному часу.\n",
    "\n",
    "\n",
    "- **Анализ:**\n",
    "    - Временной ряд содержит данные за полугодовой период: с марта по август 2018 года;\n",
    "    - Тренд временного ряда возрастает;\n",
    "    - Период графика составляет один день;\n",
    "    - На временном ряде есть несколько высоких значений.\n",
    "\n",
    "\n",
    "- **Обучение:**\n",
    "    - Добавлены дополнительные признаки;\n",
    "    - Построен пайплайн;\n",
    "    - В пайплайне использовано несколько моделей с разными гиперпараметрами;\n",
    "    - Выбор моделей продиктован информативнотью и интерпритируемостью признаков\n",
    "    - Лучшая модель - линейная регрессия;\n",
    "    - Метрика обучения лучшей модели на обучающей выборке - 22.69\n",
    "\n",
    "\n",
    "- **Тестирование:**\n",
    "    - Метрика лучшей модели на тестовой выборке - 34.26;\n",
    "    - Построен график важности факторов.\n",
    "***"
   ]
  },
  {
   "cell_type": "code",
   "execution_count": null,
   "metadata": {},
   "outputs": [],
   "source": []
  }
 ],
 "metadata": {
  "ExecuteTimeLog": [
   {
    "duration": 53,
    "start_time": "2024-10-19T18:37:36.074Z"
   },
   {
    "duration": 450,
    "start_time": "2024-10-19T18:39:33.284Z"
   },
   {
    "duration": 114,
    "start_time": "2024-10-19T18:39:37.748Z"
   },
   {
    "duration": 32,
    "start_time": "2024-10-19T18:40:49.299Z"
   },
   {
    "duration": 23,
    "start_time": "2024-10-19T18:40:54.218Z"
   },
   {
    "duration": 9,
    "start_time": "2024-10-19T18:41:18.071Z"
   },
   {
    "duration": 7,
    "start_time": "2024-10-19T18:41:23.351Z"
   },
   {
    "duration": 49,
    "start_time": "2024-10-19T18:41:28.561Z"
   },
   {
    "duration": 13,
    "start_time": "2024-10-19T18:41:29.604Z"
   },
   {
    "duration": 15,
    "start_time": "2024-10-19T18:42:07.370Z"
   },
   {
    "duration": 48,
    "start_time": "2024-10-19T18:42:28.167Z"
   },
   {
    "duration": 14,
    "start_time": "2024-10-19T18:42:30.865Z"
   },
   {
    "duration": 6,
    "start_time": "2024-10-19T18:44:21.377Z"
   },
   {
    "duration": 49,
    "start_time": "2024-10-19T18:44:47.423Z"
   },
   {
    "duration": 16,
    "start_time": "2024-10-19T18:44:48.079Z"
   },
   {
    "duration": 5,
    "start_time": "2024-10-19T18:44:48.703Z"
   },
   {
    "duration": 10,
    "start_time": "2024-10-19T18:49:54.011Z"
   },
   {
    "duration": 8,
    "start_time": "2024-10-19T18:51:28.430Z"
   },
   {
    "duration": 4,
    "start_time": "2024-10-19T18:51:36.173Z"
   },
   {
    "duration": 825,
    "start_time": "2024-10-19T18:53:47.363Z"
   },
   {
    "duration": 8,
    "start_time": "2024-10-19T18:54:14.207Z"
   },
   {
    "duration": 764,
    "start_time": "2024-10-19T18:55:49.257Z"
   },
   {
    "duration": 255,
    "start_time": "2024-10-19T18:58:03.401Z"
   },
   {
    "duration": 296,
    "start_time": "2024-10-19T18:58:18.086Z"
   },
   {
    "duration": 226,
    "start_time": "2024-10-19T18:58:20.132Z"
   },
   {
    "duration": 223,
    "start_time": "2024-10-19T18:58:21.360Z"
   },
   {
    "duration": 223,
    "start_time": "2024-10-19T18:59:19.293Z"
   },
   {
    "duration": 193,
    "start_time": "2024-10-19T19:02:09.432Z"
   },
   {
    "duration": 144,
    "start_time": "2024-10-19T19:02:37.282Z"
   },
   {
    "duration": 235,
    "start_time": "2024-10-19T19:08:46.076Z"
   },
   {
    "duration": 356,
    "start_time": "2024-10-19T19:10:54.851Z"
   },
   {
    "duration": 1183,
    "start_time": "2024-10-19T19:11:40.436Z"
   },
   {
    "duration": 52,
    "start_time": "2024-10-19T19:11:41.625Z"
   },
   {
    "duration": 21,
    "start_time": "2024-10-19T19:11:41.678Z"
   },
   {
    "duration": 31,
    "start_time": "2024-10-19T19:11:41.701Z"
   },
   {
    "duration": 9,
    "start_time": "2024-10-19T19:11:41.734Z"
   },
   {
    "duration": 4,
    "start_time": "2024-10-19T19:11:41.745Z"
   },
   {
    "duration": 534,
    "start_time": "2024-10-19T19:11:41.751Z"
   },
   {
    "duration": 261,
    "start_time": "2024-10-19T19:11:42.287Z"
   },
   {
    "duration": 153,
    "start_time": "2024-10-19T19:11:42.549Z"
   },
   {
    "duration": 332,
    "start_time": "2024-10-19T19:11:42.704Z"
   },
   {
    "duration": 4,
    "start_time": "2024-10-19T19:13:10.731Z"
   },
   {
    "duration": 22,
    "start_time": "2024-10-19T19:16:05.116Z"
   },
   {
    "duration": 13,
    "start_time": "2024-10-19T19:16:12.704Z"
   },
   {
    "duration": 5,
    "start_time": "2024-10-19T19:29:02.141Z"
   },
   {
    "duration": 3,
    "start_time": "2024-10-19T19:29:41.155Z"
   },
   {
    "duration": 6,
    "start_time": "2024-10-19T19:31:47.472Z"
   },
   {
    "duration": 10,
    "start_time": "2024-10-19T19:31:55.043Z"
   },
   {
    "duration": 9,
    "start_time": "2024-10-19T19:32:01.494Z"
   },
   {
    "duration": 12,
    "start_time": "2024-10-19T19:32:07.756Z"
   },
   {
    "duration": 46,
    "start_time": "2024-10-19T19:52:46.024Z"
   },
   {
    "duration": 3,
    "start_time": "2024-10-19T19:53:30.157Z"
   },
   {
    "duration": 17,
    "start_time": "2024-10-19T19:54:56.518Z"
   },
   {
    "duration": 125,
    "start_time": "2024-10-19T19:58:18.562Z"
   },
   {
    "duration": 3,
    "start_time": "2024-10-19T19:58:36.899Z"
   },
   {
    "duration": 86,
    "start_time": "2024-10-19T19:59:22.053Z"
   },
   {
    "duration": 4,
    "start_time": "2024-10-19T20:01:46.832Z"
   },
   {
    "duration": 10,
    "start_time": "2024-10-19T20:01:49.731Z"
   },
   {
    "duration": 10,
    "start_time": "2024-10-19T20:03:48.432Z"
   },
   {
    "duration": 4,
    "start_time": "2024-10-19T20:03:51.034Z"
   },
   {
    "duration": 1042,
    "start_time": "2024-10-19T20:03:51.270Z"
   },
   {
    "duration": 5,
    "start_time": "2024-10-19T20:04:04.332Z"
   },
   {
    "duration": 4,
    "start_time": "2024-10-19T20:04:10.789Z"
   },
   {
    "duration": 897,
    "start_time": "2024-10-19T20:04:11.233Z"
   },
   {
    "duration": 4,
    "start_time": "2024-10-19T20:04:42.238Z"
   },
   {
    "duration": 15,
    "start_time": "2024-10-19T20:04:42.920Z"
   },
   {
    "duration": 23,
    "start_time": "2024-10-19T20:04:48.188Z"
   },
   {
    "duration": 7,
    "start_time": "2024-10-19T20:04:57.088Z"
   },
   {
    "duration": 4,
    "start_time": "2024-10-19T20:05:01.137Z"
   },
   {
    "duration": 8,
    "start_time": "2024-10-19T20:05:01.392Z"
   },
   {
    "duration": 27,
    "start_time": "2024-10-19T20:05:02.816Z"
   },
   {
    "duration": 9,
    "start_time": "2024-10-19T20:05:40.265Z"
   },
   {
    "duration": 7,
    "start_time": "2024-10-19T20:05:44.062Z"
   },
   {
    "duration": 21,
    "start_time": "2024-10-19T20:05:44.645Z"
   },
   {
    "duration": 21,
    "start_time": "2024-10-19T20:05:51.435Z"
   },
   {
    "duration": 8,
    "start_time": "2024-10-19T20:06:15.338Z"
   },
   {
    "duration": 20,
    "start_time": "2024-10-19T20:06:20.460Z"
   },
   {
    "duration": 8,
    "start_time": "2024-10-19T20:06:29.484Z"
   },
   {
    "duration": 22,
    "start_time": "2024-10-19T20:06:29.761Z"
   },
   {
    "duration": 4,
    "start_time": "2024-10-19T20:06:58.679Z"
   },
   {
    "duration": 2,
    "start_time": "2024-10-19T20:07:07.180Z"
   },
   {
    "duration": 5,
    "start_time": "2024-10-19T20:07:15.086Z"
   },
   {
    "duration": 1179,
    "start_time": "2024-10-19T20:10:03.835Z"
   },
   {
    "duration": 3,
    "start_time": "2024-10-19T20:10:05.016Z"
   },
   {
    "duration": 130,
    "start_time": "2024-10-19T20:10:05.020Z"
   },
   {
    "duration": 23,
    "start_time": "2024-10-19T20:10:05.153Z"
   },
   {
    "duration": 38,
    "start_time": "2024-10-19T20:10:05.179Z"
   },
   {
    "duration": 38,
    "start_time": "2024-10-19T20:10:05.218Z"
   },
   {
    "duration": 36,
    "start_time": "2024-10-19T20:10:05.258Z"
   },
   {
    "duration": 564,
    "start_time": "2024-10-19T20:10:05.295Z"
   },
   {
    "duration": 242,
    "start_time": "2024-10-19T20:10:05.861Z"
   },
   {
    "duration": 168,
    "start_time": "2024-10-19T20:10:06.105Z"
   },
   {
    "duration": 321,
    "start_time": "2024-10-19T20:10:06.275Z"
   },
   {
    "duration": 5,
    "start_time": "2024-10-19T20:10:06.598Z"
   },
   {
    "duration": 35,
    "start_time": "2024-10-19T20:10:06.604Z"
   },
   {
    "duration": 22,
    "start_time": "2024-10-19T20:10:06.642Z"
   },
   {
    "duration": 30,
    "start_time": "2024-10-19T20:10:06.666Z"
   },
   {
    "duration": 127,
    "start_time": "2024-10-19T20:10:06.698Z"
   },
   {
    "duration": 0,
    "start_time": "2024-10-19T20:10:06.827Z"
   },
   {
    "duration": 0,
    "start_time": "2024-10-19T20:10:06.828Z"
   },
   {
    "duration": 120,
    "start_time": "2024-10-19T20:10:41.063Z"
   },
   {
    "duration": 3,
    "start_time": "2024-10-19T20:10:53.618Z"
   },
   {
    "duration": 12,
    "start_time": "2024-10-19T20:10:54.590Z"
   },
   {
    "duration": 12,
    "start_time": "2024-10-19T20:11:03.766Z"
   },
   {
    "duration": 4,
    "start_time": "2024-10-19T20:11:14.569Z"
   },
   {
    "duration": 66,
    "start_time": "2024-10-19T20:13:41.045Z"
   },
   {
    "duration": 4,
    "start_time": "2024-10-19T20:14:04.333Z"
   },
   {
    "duration": 10,
    "start_time": "2024-10-19T20:14:06.593Z"
   },
   {
    "duration": 4,
    "start_time": "2024-10-19T20:15:02.627Z"
   },
   {
    "duration": 11,
    "start_time": "2024-10-19T20:15:05.976Z"
   },
   {
    "duration": 3,
    "start_time": "2024-10-19T20:15:29.714Z"
   },
   {
    "duration": 9,
    "start_time": "2024-10-19T20:15:56.191Z"
   },
   {
    "duration": 5,
    "start_time": "2024-10-19T20:17:57.126Z"
   },
   {
    "duration": 19,
    "start_time": "2024-10-19T20:18:53.570Z"
   },
   {
    "duration": 9,
    "start_time": "2024-10-19T20:19:21.823Z"
   },
   {
    "duration": 3,
    "start_time": "2024-10-19T20:19:29.806Z"
   },
   {
    "duration": 4,
    "start_time": "2024-10-19T20:19:30.346Z"
   },
   {
    "duration": 4,
    "start_time": "2024-10-19T20:19:30.995Z"
   },
   {
    "duration": 3,
    "start_time": "2024-10-19T20:19:31.585Z"
   },
   {
    "duration": 14,
    "start_time": "2024-10-19T20:19:32.083Z"
   },
   {
    "duration": 9,
    "start_time": "2024-10-19T20:20:00.612Z"
   },
   {
    "duration": 4,
    "start_time": "2024-10-19T20:20:17.084Z"
   },
   {
    "duration": 9,
    "start_time": "2024-10-19T20:20:25.486Z"
   },
   {
    "duration": 4,
    "start_time": "2024-10-19T20:20:29.351Z"
   },
   {
    "duration": 3,
    "start_time": "2024-10-19T20:20:55.929Z"
   },
   {
    "duration": 13,
    "start_time": "2024-10-19T20:20:56.666Z"
   },
   {
    "duration": 7,
    "start_time": "2024-10-19T20:21:41.874Z"
   },
   {
    "duration": 6,
    "start_time": "2024-10-19T20:21:42.686Z"
   },
   {
    "duration": 3,
    "start_time": "2024-10-19T20:21:43.041Z"
   },
   {
    "duration": 3,
    "start_time": "2024-10-19T20:21:43.224Z"
   },
   {
    "duration": 4,
    "start_time": "2024-10-19T20:21:43.392Z"
   },
   {
    "duration": 3,
    "start_time": "2024-10-19T20:21:43.580Z"
   },
   {
    "duration": 1200,
    "start_time": "2024-10-19T20:22:35.535Z"
   },
   {
    "duration": 3,
    "start_time": "2024-10-19T20:22:36.737Z"
   },
   {
    "duration": 74,
    "start_time": "2024-10-19T20:22:36.741Z"
   },
   {
    "duration": 20,
    "start_time": "2024-10-19T20:22:36.817Z"
   },
   {
    "duration": 10,
    "start_time": "2024-10-19T20:22:36.839Z"
   },
   {
    "duration": 52,
    "start_time": "2024-10-19T20:22:36.850Z"
   },
   {
    "duration": 13,
    "start_time": "2024-10-19T20:22:36.904Z"
   },
   {
    "duration": 519,
    "start_time": "2024-10-19T20:22:36.919Z"
   },
   {
    "duration": 225,
    "start_time": "2024-10-19T20:22:37.439Z"
   },
   {
    "duration": 154,
    "start_time": "2024-10-19T20:22:37.666Z"
   },
   {
    "duration": 312,
    "start_time": "2024-10-19T20:22:37.822Z"
   },
   {
    "duration": 5,
    "start_time": "2024-10-19T20:22:38.135Z"
   },
   {
    "duration": 16,
    "start_time": "2024-10-19T20:22:38.142Z"
   },
   {
    "duration": 11,
    "start_time": "2024-10-19T20:22:38.161Z"
   },
   {
    "duration": 22,
    "start_time": "2024-10-19T20:22:38.173Z"
   },
   {
    "duration": 20,
    "start_time": "2024-10-19T20:22:38.197Z"
   },
   {
    "duration": 26,
    "start_time": "2024-10-19T20:22:38.219Z"
   },
   {
    "duration": 10,
    "start_time": "2024-10-19T20:22:38.247Z"
   },
   {
    "duration": 11,
    "start_time": "2024-10-19T20:22:38.258Z"
   },
   {
    "duration": 19859,
    "start_time": "2024-10-19T20:22:38.272Z"
   },
   {
    "duration": 4,
    "start_time": "2024-10-19T20:26:20.020Z"
   },
   {
    "duration": 3,
    "start_time": "2024-10-19T20:26:42.053Z"
   },
   {
    "duration": 5,
    "start_time": "2024-10-19T20:26:46.656Z"
   },
   {
    "duration": 5,
    "start_time": "2024-10-19T20:29:41.861Z"
   },
   {
    "duration": 2,
    "start_time": "2024-10-19T20:29:42.525Z"
   },
   {
    "duration": 162410,
    "start_time": "2024-10-19T20:29:43.979Z"
   },
   {
    "duration": 7,
    "start_time": "2024-10-19T20:32:26.391Z"
   },
   {
    "duration": 79,
    "start_time": "2024-10-19T20:44:37.706Z"
   },
   {
    "duration": 67,
    "start_time": "2024-10-19T20:44:59.123Z"
   },
   {
    "duration": 3,
    "start_time": "2024-10-19T20:45:03.648Z"
   },
   {
    "duration": 4,
    "start_time": "2024-10-19T20:45:11.061Z"
   },
   {
    "duration": 118,
    "start_time": "2024-10-19T20:46:01.467Z"
   },
   {
    "duration": 46,
    "start_time": "2024-10-19T20:46:12.742Z"
   },
   {
    "duration": 9,
    "start_time": "2024-10-19T20:46:51.883Z"
   },
   {
    "duration": 41,
    "start_time": "2024-10-19T20:46:57.815Z"
   },
   {
    "duration": 11,
    "start_time": "2024-10-19T20:47:18.902Z"
   },
   {
    "duration": 10,
    "start_time": "2024-10-19T20:47:22.507Z"
   },
   {
    "duration": 4,
    "start_time": "2024-10-19T20:47:29.811Z"
   },
   {
    "duration": 4,
    "start_time": "2024-10-19T20:47:34.744Z"
   },
   {
    "duration": 87,
    "start_time": "2024-10-19T20:48:08.623Z"
   },
   {
    "duration": 6,
    "start_time": "2024-10-19T20:48:29.150Z"
   },
   {
    "duration": 4,
    "start_time": "2024-10-19T20:49:30.535Z"
   },
   {
    "duration": 4,
    "start_time": "2024-10-19T20:49:38.226Z"
   },
   {
    "duration": 3,
    "start_time": "2024-10-19T20:52:12.174Z"
   },
   {
    "duration": 5,
    "start_time": "2024-10-19T20:52:13.524Z"
   },
   {
    "duration": 3,
    "start_time": "2024-10-19T20:52:14.026Z"
   },
   {
    "duration": 25,
    "start_time": "2024-10-19T20:52:15.397Z"
   },
   {
    "duration": 4,
    "start_time": "2024-10-19T20:53:05.042Z"
   },
   {
    "duration": 5,
    "start_time": "2024-10-19T20:53:05.344Z"
   },
   {
    "duration": 3,
    "start_time": "2024-10-19T20:53:05.627Z"
   },
   {
    "duration": 1209,
    "start_time": "2024-10-19T20:53:13.805Z"
   },
   {
    "duration": 5,
    "start_time": "2024-10-19T20:53:15.016Z"
   },
   {
    "duration": 96,
    "start_time": "2024-10-19T20:53:15.023Z"
   },
   {
    "duration": 24,
    "start_time": "2024-10-19T20:53:15.120Z"
   },
   {
    "duration": 5,
    "start_time": "2024-10-19T20:53:15.147Z"
   },
   {
    "duration": 28,
    "start_time": "2024-10-19T20:53:15.153Z"
   },
   {
    "duration": 51,
    "start_time": "2024-10-19T20:53:15.182Z"
   },
   {
    "duration": 553,
    "start_time": "2024-10-19T20:53:15.234Z"
   },
   {
    "duration": 234,
    "start_time": "2024-10-19T20:53:15.790Z"
   },
   {
    "duration": 166,
    "start_time": "2024-10-19T20:53:16.026Z"
   },
   {
    "duration": 301,
    "start_time": "2024-10-19T20:53:16.194Z"
   },
   {
    "duration": 3,
    "start_time": "2024-10-19T20:53:16.497Z"
   },
   {
    "duration": 24,
    "start_time": "2024-10-19T20:53:16.502Z"
   },
   {
    "duration": 8,
    "start_time": "2024-10-19T20:53:16.529Z"
   },
   {
    "duration": 5,
    "start_time": "2024-10-19T20:53:16.538Z"
   },
   {
    "duration": 270,
    "start_time": "2024-10-19T20:53:16.544Z"
   },
   {
    "duration": 0,
    "start_time": "2024-10-19T20:53:16.815Z"
   },
   {
    "duration": 0,
    "start_time": "2024-10-19T20:53:16.817Z"
   },
   {
    "duration": 0,
    "start_time": "2024-10-19T20:53:16.818Z"
   },
   {
    "duration": 0,
    "start_time": "2024-10-19T20:53:16.819Z"
   },
   {
    "duration": 0,
    "start_time": "2024-10-19T20:53:16.820Z"
   },
   {
    "duration": 0,
    "start_time": "2024-10-19T20:53:16.821Z"
   },
   {
    "duration": 3,
    "start_time": "2024-10-19T21:00:24.004Z"
   },
   {
    "duration": 4,
    "start_time": "2024-10-19T21:00:24.736Z"
   },
   {
    "duration": 3,
    "start_time": "2024-10-19T21:00:25.510Z"
   },
   {
    "duration": 1143,
    "start_time": "2024-10-19T21:01:12.948Z"
   },
   {
    "duration": 3,
    "start_time": "2024-10-19T21:01:14.093Z"
   },
   {
    "duration": 54,
    "start_time": "2024-10-19T21:01:14.098Z"
   },
   {
    "duration": 21,
    "start_time": "2024-10-19T21:01:14.154Z"
   },
   {
    "duration": 6,
    "start_time": "2024-10-19T21:01:14.177Z"
   },
   {
    "duration": 24,
    "start_time": "2024-10-19T21:01:14.185Z"
   },
   {
    "duration": 16,
    "start_time": "2024-10-19T21:01:14.211Z"
   },
   {
    "duration": 509,
    "start_time": "2024-10-19T21:01:14.229Z"
   },
   {
    "duration": 241,
    "start_time": "2024-10-19T21:01:14.740Z"
   },
   {
    "duration": 181,
    "start_time": "2024-10-19T21:01:14.983Z"
   },
   {
    "duration": 296,
    "start_time": "2024-10-19T21:01:15.165Z"
   },
   {
    "duration": 4,
    "start_time": "2024-10-19T21:01:15.463Z"
   },
   {
    "duration": 33,
    "start_time": "2024-10-19T21:01:15.469Z"
   },
   {
    "duration": 35,
    "start_time": "2024-10-19T21:01:15.504Z"
   },
   {
    "duration": 12,
    "start_time": "2024-10-19T21:01:15.540Z"
   },
   {
    "duration": 3,
    "start_time": "2024-10-19T21:01:15.554Z"
   },
   {
    "duration": 117,
    "start_time": "2024-10-19T21:01:15.559Z"
   },
   {
    "duration": 0,
    "start_time": "2024-10-19T21:01:15.677Z"
   },
   {
    "duration": 0,
    "start_time": "2024-10-19T21:01:15.679Z"
   },
   {
    "duration": 0,
    "start_time": "2024-10-19T21:01:15.680Z"
   },
   {
    "duration": 0,
    "start_time": "2024-10-19T21:01:15.681Z"
   },
   {
    "duration": 11,
    "start_time": "2024-10-19T21:01:52.885Z"
   },
   {
    "duration": 10,
    "start_time": "2024-10-19T21:01:53.816Z"
   },
   {
    "duration": 9,
    "start_time": "2024-10-19T21:01:54.239Z"
   },
   {
    "duration": 4,
    "start_time": "2024-10-19T21:02:10.321Z"
   },
   {
    "duration": 3,
    "start_time": "2024-10-19T21:02:10.918Z"
   },
   {
    "duration": 208369,
    "start_time": "2024-10-19T21:02:11.864Z"
   },
   {
    "duration": 4,
    "start_time": "2024-10-19T21:05:40.235Z"
   },
   {
    "duration": 55,
    "start_time": "2024-10-19T21:05:40.240Z"
   },
   {
    "duration": 1134,
    "start_time": "2024-10-20T06:04:55.727Z"
   },
   {
    "duration": 3,
    "start_time": "2024-10-20T06:04:56.863Z"
   },
   {
    "duration": 191,
    "start_time": "2024-10-20T06:04:56.868Z"
   },
   {
    "duration": 22,
    "start_time": "2024-10-20T06:04:57.061Z"
   },
   {
    "duration": 5,
    "start_time": "2024-10-20T06:04:57.084Z"
   },
   {
    "duration": 25,
    "start_time": "2024-10-20T06:04:57.090Z"
   },
   {
    "duration": 4,
    "start_time": "2024-10-20T06:04:57.117Z"
   },
   {
    "duration": 659,
    "start_time": "2024-10-20T06:04:57.123Z"
   },
   {
    "duration": 220,
    "start_time": "2024-10-20T06:04:57.784Z"
   },
   {
    "duration": 229,
    "start_time": "2024-10-20T06:04:58.008Z"
   },
   {
    "duration": 238,
    "start_time": "2024-10-20T06:04:58.239Z"
   },
   {
    "duration": 5,
    "start_time": "2024-10-20T06:04:58.480Z"
   },
   {
    "duration": 13,
    "start_time": "2024-10-20T06:04:58.497Z"
   },
   {
    "duration": 8,
    "start_time": "2024-10-20T06:04:58.511Z"
   },
   {
    "duration": 5,
    "start_time": "2024-10-20T06:04:58.521Z"
   },
   {
    "duration": 3,
    "start_time": "2024-10-20T06:04:58.527Z"
   },
   {
    "duration": 12,
    "start_time": "2024-10-20T06:04:58.532Z"
   },
   {
    "duration": 14,
    "start_time": "2024-10-20T06:04:58.545Z"
   },
   {
    "duration": 202194,
    "start_time": "2024-10-20T06:04:58.560Z"
   },
   {
    "duration": 3,
    "start_time": "2024-10-20T06:08:20.756Z"
   },
   {
    "duration": 76,
    "start_time": "2024-10-20T06:08:20.761Z"
   },
   {
    "duration": 45,
    "start_time": "2024-10-20T06:08:51.673Z"
   },
   {
    "duration": 4,
    "start_time": "2024-10-20T06:09:14.525Z"
   },
   {
    "duration": 46,
    "start_time": "2024-10-20T06:10:50.294Z"
   },
   {
    "duration": 47,
    "start_time": "2024-10-20T06:10:53.861Z"
   },
   {
    "duration": 62,
    "start_time": "2024-10-20T06:18:08.638Z"
   },
   {
    "duration": 119,
    "start_time": "2024-10-20T06:18:26.324Z"
   },
   {
    "duration": 13,
    "start_time": "2024-10-20T06:18:32.336Z"
   },
   {
    "duration": 11,
    "start_time": "2024-10-20T06:27:17.634Z"
   },
   {
    "duration": 6618,
    "start_time": "2024-10-20T06:27:42.529Z"
   },
   {
    "duration": 16,
    "start_time": "2024-10-20T06:27:51.353Z"
   },
   {
    "duration": 16,
    "start_time": "2024-10-20T06:31:54.286Z"
   },
   {
    "duration": 4,
    "start_time": "2024-10-20T06:34:39.540Z"
   },
   {
    "duration": 3,
    "start_time": "2024-10-20T06:34:39.905Z"
   },
   {
    "duration": 9886,
    "start_time": "2024-10-20T06:34:40.428Z"
   },
   {
    "duration": 3,
    "start_time": "2024-10-20T06:34:50.316Z"
   },
   {
    "duration": 85,
    "start_time": "2024-10-20T06:34:50.321Z"
   },
   {
    "duration": 4,
    "start_time": "2024-10-20T06:35:14.947Z"
   },
   {
    "duration": 5,
    "start_time": "2024-10-20T06:35:21.256Z"
   },
   {
    "duration": 3,
    "start_time": "2024-10-20T06:35:21.585Z"
   },
   {
    "duration": 185173,
    "start_time": "2024-10-20T06:35:21.874Z"
   },
   {
    "duration": 4,
    "start_time": "2024-10-20T06:38:27.049Z"
   },
   {
    "duration": 49,
    "start_time": "2024-10-20T06:38:27.054Z"
   },
   {
    "duration": 3799,
    "start_time": "2024-10-20T06:38:27.104Z"
   },
   {
    "duration": 4,
    "start_time": "2024-10-20T06:38:53.111Z"
   },
   {
    "duration": 3,
    "start_time": "2024-10-20T06:38:53.702Z"
   },
   {
    "duration": 10251,
    "start_time": "2024-10-20T06:38:54.262Z"
   },
   {
    "duration": 4,
    "start_time": "2024-10-20T06:39:04.516Z"
   },
   {
    "duration": 89,
    "start_time": "2024-10-20T06:39:04.522Z"
   },
   {
    "duration": 2945,
    "start_time": "2024-10-20T06:39:46.971Z"
   },
   {
    "duration": 4,
    "start_time": "2024-10-20T06:40:17.963Z"
   },
   {
    "duration": 3,
    "start_time": "2024-10-20T06:40:19.485Z"
   },
   {
    "duration": 34381,
    "start_time": "2024-10-20T06:40:20.045Z"
   },
   {
    "duration": 5,
    "start_time": "2024-10-20T06:40:54.499Z"
   },
   {
    "duration": 12,
    "start_time": "2024-10-20T06:40:54.505Z"
   },
   {
    "duration": 15,
    "start_time": "2024-10-20T06:45:36.978Z"
   },
   {
    "duration": 10,
    "start_time": "2024-10-20T06:48:26.484Z"
   },
   {
    "duration": 6,
    "start_time": "2024-10-20T06:48:33.351Z"
   },
   {
    "duration": 5,
    "start_time": "2024-10-20T06:48:45.642Z"
   },
   {
    "duration": 14,
    "start_time": "2024-10-20T06:48:55.974Z"
   },
   {
    "duration": 2611,
    "start_time": "2024-10-20T06:49:01.907Z"
   },
   {
    "duration": 7,
    "start_time": "2024-10-20T06:49:17.437Z"
   },
   {
    "duration": 134,
    "start_time": "2024-10-20T06:51:28.393Z"
   },
   {
    "duration": 18,
    "start_time": "2024-10-20T06:53:05.925Z"
   },
   {
    "duration": 9,
    "start_time": "2024-10-20T06:53:34.386Z"
   },
   {
    "duration": 3,
    "start_time": "2024-10-20T06:53:38.403Z"
   },
   {
    "duration": 4,
    "start_time": "2024-10-20T06:53:41.646Z"
   },
   {
    "duration": 4,
    "start_time": "2024-10-20T06:54:00.833Z"
   },
   {
    "duration": 3,
    "start_time": "2024-10-20T06:56:14.171Z"
   },
   {
    "duration": 58,
    "start_time": "2024-10-20T06:56:45.749Z"
   },
   {
    "duration": 3,
    "start_time": "2024-10-20T06:56:48.851Z"
   },
   {
    "duration": 6,
    "start_time": "2024-10-20T06:56:57.524Z"
   },
   {
    "duration": 14,
    "start_time": "2024-10-20T06:57:14.018Z"
   },
   {
    "duration": 3,
    "start_time": "2024-10-20T06:57:40.011Z"
   },
   {
    "duration": 8,
    "start_time": "2024-10-20T06:57:41.276Z"
   },
   {
    "duration": 119,
    "start_time": "2024-10-20T06:57:54.005Z"
   },
   {
    "duration": 6,
    "start_time": "2024-10-20T06:58:32.132Z"
   },
   {
    "duration": 15,
    "start_time": "2024-10-20T06:58:55.112Z"
   },
   {
    "duration": 185,
    "start_time": "2024-10-20T06:59:36.905Z"
   },
   {
    "duration": 157,
    "start_time": "2024-10-20T06:59:50.953Z"
   },
   {
    "duration": 3,
    "start_time": "2024-10-20T07:00:23.186Z"
   },
   {
    "duration": 4522,
    "start_time": "2024-10-20T07:00:27.607Z"
   },
   {
    "duration": 3,
    "start_time": "2024-10-20T07:00:32.131Z"
   },
   {
    "duration": 75,
    "start_time": "2024-10-20T07:00:32.135Z"
   },
   {
    "duration": 18,
    "start_time": "2024-10-20T07:00:32.213Z"
   },
   {
    "duration": 5,
    "start_time": "2024-10-20T07:00:32.233Z"
   },
   {
    "duration": 11,
    "start_time": "2024-10-20T07:00:32.239Z"
   },
   {
    "duration": 13,
    "start_time": "2024-10-20T07:00:32.251Z"
   },
   {
    "duration": 239,
    "start_time": "2024-10-20T07:00:32.266Z"
   },
   {
    "duration": 217,
    "start_time": "2024-10-20T07:00:32.507Z"
   },
   {
    "duration": 157,
    "start_time": "2024-10-20T07:00:32.727Z"
   },
   {
    "duration": 295,
    "start_time": "2024-10-20T07:00:32.885Z"
   },
   {
    "duration": 4,
    "start_time": "2024-10-20T07:00:33.181Z"
   },
   {
    "duration": 21,
    "start_time": "2024-10-20T07:00:33.187Z"
   },
   {
    "duration": 16,
    "start_time": "2024-10-20T07:00:33.210Z"
   },
   {
    "duration": 6,
    "start_time": "2024-10-20T07:00:33.228Z"
   },
   {
    "duration": 5,
    "start_time": "2024-10-20T07:00:33.235Z"
   },
   {
    "duration": 21,
    "start_time": "2024-10-20T07:00:33.241Z"
   },
   {
    "duration": 26,
    "start_time": "2024-10-20T07:00:33.264Z"
   },
   {
    "duration": 35815,
    "start_time": "2024-10-20T07:00:33.292Z"
   },
   {
    "duration": 4,
    "start_time": "2024-10-20T07:01:09.109Z"
   },
   {
    "duration": 90,
    "start_time": "2024-10-20T07:01:09.115Z"
   },
   {
    "duration": 131,
    "start_time": "2024-10-20T07:01:09.207Z"
   },
   {
    "duration": 0,
    "start_time": "2024-10-20T07:01:09.339Z"
   },
   {
    "duration": 0,
    "start_time": "2024-10-20T07:01:09.340Z"
   },
   {
    "duration": 3,
    "start_time": "2024-10-20T07:01:12.532Z"
   },
   {
    "duration": 172,
    "start_time": "2024-10-20T07:01:12.851Z"
   },
   {
    "duration": 3,
    "start_time": "2024-10-20T07:02:05.293Z"
   },
   {
    "duration": 155,
    "start_time": "2024-10-20T07:02:05.694Z"
   },
   {
    "duration": 4,
    "start_time": "2024-10-20T07:02:39.104Z"
   },
   {
    "duration": 151,
    "start_time": "2024-10-20T07:02:39.340Z"
   },
   {
    "duration": 4,
    "start_time": "2024-10-20T07:02:46.889Z"
   },
   {
    "duration": 10,
    "start_time": "2024-10-20T07:02:53.731Z"
   },
   {
    "duration": 16,
    "start_time": "2024-10-20T07:03:01.886Z"
   },
   {
    "duration": 4,
    "start_time": "2024-10-20T07:03:28.730Z"
   },
   {
    "duration": 153,
    "start_time": "2024-10-20T07:03:33.462Z"
   },
   {
    "duration": 158,
    "start_time": "2024-10-20T07:03:46.845Z"
   },
   {
    "duration": 4209,
    "start_time": "2024-10-20T07:16:19.477Z"
   },
   {
    "duration": 10,
    "start_time": "2024-10-20T07:16:23.688Z"
   },
   {
    "duration": 159,
    "start_time": "2024-10-20T07:16:23.699Z"
   },
   {
    "duration": 18,
    "start_time": "2024-10-20T07:16:23.860Z"
   },
   {
    "duration": 5,
    "start_time": "2024-10-20T07:16:23.880Z"
   },
   {
    "duration": 12,
    "start_time": "2024-10-20T07:16:23.886Z"
   },
   {
    "duration": 5,
    "start_time": "2024-10-20T07:16:23.899Z"
   },
   {
    "duration": 274,
    "start_time": "2024-10-20T07:16:23.905Z"
   },
   {
    "duration": 209,
    "start_time": "2024-10-20T07:16:24.180Z"
   },
   {
    "duration": 139,
    "start_time": "2024-10-20T07:16:24.391Z"
   },
   {
    "duration": 292,
    "start_time": "2024-10-20T07:16:24.531Z"
   },
   {
    "duration": 4,
    "start_time": "2024-10-20T07:16:24.825Z"
   },
   {
    "duration": 15,
    "start_time": "2024-10-20T07:16:24.830Z"
   },
   {
    "duration": 7,
    "start_time": "2024-10-20T07:16:24.847Z"
   },
   {
    "duration": 4,
    "start_time": "2024-10-20T07:16:24.856Z"
   },
   {
    "duration": 8,
    "start_time": "2024-10-20T07:16:24.861Z"
   },
   {
    "duration": 29,
    "start_time": "2024-10-20T07:16:24.870Z"
   },
   {
    "duration": 10,
    "start_time": "2024-10-20T07:16:24.901Z"
   },
   {
    "duration": 35109,
    "start_time": "2024-10-20T07:16:24.912Z"
   },
   {
    "duration": 75,
    "start_time": "2024-10-20T07:17:00.023Z"
   },
   {
    "duration": 9,
    "start_time": "2024-10-20T07:17:00.100Z"
   },
   {
    "duration": 18,
    "start_time": "2024-10-20T07:17:00.110Z"
   },
   {
    "duration": 172,
    "start_time": "2024-10-20T07:17:00.130Z"
   },
   {
    "duration": 729,
    "start_time": "2024-10-20T07:24:00.674Z"
   },
   {
    "duration": 4331,
    "start_time": "2024-10-20T07:24:11.283Z"
   },
   {
    "duration": 3,
    "start_time": "2024-10-20T07:24:15.616Z"
   },
   {
    "duration": 62,
    "start_time": "2024-10-20T07:24:15.620Z"
   },
   {
    "duration": 17,
    "start_time": "2024-10-20T07:24:15.683Z"
   },
   {
    "duration": 107,
    "start_time": "2024-10-20T07:24:15.702Z"
   },
   {
    "duration": 97,
    "start_time": "2024-10-20T07:24:15.811Z"
   },
   {
    "duration": 7,
    "start_time": "2024-10-20T07:24:15.909Z"
   },
   {
    "duration": 256,
    "start_time": "2024-10-20T07:24:15.919Z"
   },
   {
    "duration": 221,
    "start_time": "2024-10-20T07:24:16.177Z"
   },
   {
    "duration": 306,
    "start_time": "2024-10-20T07:24:16.400Z"
   },
   {
    "duration": 164,
    "start_time": "2024-10-20T07:24:16.708Z"
   },
   {
    "duration": 259,
    "start_time": "2024-10-20T07:24:16.874Z"
   },
   {
    "duration": 3,
    "start_time": "2024-10-20T07:24:17.135Z"
   },
   {
    "duration": 23,
    "start_time": "2024-10-20T07:24:17.141Z"
   },
   {
    "duration": 9,
    "start_time": "2024-10-20T07:24:17.166Z"
   },
   {
    "duration": 5,
    "start_time": "2024-10-20T07:24:17.177Z"
   },
   {
    "duration": 49,
    "start_time": "2024-10-20T07:24:17.183Z"
   },
   {
    "duration": 8,
    "start_time": "2024-10-20T07:24:17.233Z"
   },
   {
    "duration": 14,
    "start_time": "2024-10-20T07:24:17.243Z"
   },
   {
    "duration": 35356,
    "start_time": "2024-10-20T07:24:17.258Z"
   },
   {
    "duration": 4,
    "start_time": "2024-10-20T07:24:52.616Z"
   },
   {
    "duration": 91,
    "start_time": "2024-10-20T07:24:52.621Z"
   },
   {
    "duration": 26,
    "start_time": "2024-10-20T07:24:52.714Z"
   },
   {
    "duration": 230,
    "start_time": "2024-10-20T07:24:52.742Z"
   },
   {
    "duration": 4516,
    "start_time": "2024-10-20T07:27:33.496Z"
   },
   {
    "duration": 3,
    "start_time": "2024-10-20T07:27:38.014Z"
   },
   {
    "duration": 96,
    "start_time": "2024-10-20T07:27:38.019Z"
   },
   {
    "duration": 17,
    "start_time": "2024-10-20T07:27:38.117Z"
   },
   {
    "duration": 6,
    "start_time": "2024-10-20T07:27:38.135Z"
   },
   {
    "duration": 12,
    "start_time": "2024-10-20T07:27:38.142Z"
   },
   {
    "duration": 3,
    "start_time": "2024-10-20T07:27:38.156Z"
   },
   {
    "duration": 264,
    "start_time": "2024-10-20T07:27:38.161Z"
   },
   {
    "duration": 212,
    "start_time": "2024-10-20T07:27:38.426Z"
   },
   {
    "duration": 302,
    "start_time": "2024-10-20T07:27:38.642Z"
   },
   {
    "duration": 149,
    "start_time": "2024-10-20T07:27:38.946Z"
   },
   {
    "duration": 235,
    "start_time": "2024-10-20T07:27:39.098Z"
   },
   {
    "duration": 4,
    "start_time": "2024-10-20T07:27:39.334Z"
   },
   {
    "duration": 13,
    "start_time": "2024-10-20T07:27:39.339Z"
   },
   {
    "duration": 8,
    "start_time": "2024-10-20T07:27:39.353Z"
   },
   {
    "duration": 5,
    "start_time": "2024-10-20T07:27:39.362Z"
   },
   {
    "duration": 4,
    "start_time": "2024-10-20T07:27:39.368Z"
   },
   {
    "duration": 4,
    "start_time": "2024-10-20T07:27:39.398Z"
   },
   {
    "duration": 54,
    "start_time": "2024-10-20T07:27:39.403Z"
   },
   {
    "duration": 35767,
    "start_time": "2024-10-20T07:27:39.458Z"
   },
   {
    "duration": 73,
    "start_time": "2024-10-20T07:28:15.227Z"
   },
   {
    "duration": 34,
    "start_time": "2024-10-20T07:28:15.302Z"
   },
   {
    "duration": 25,
    "start_time": "2024-10-20T07:28:15.338Z"
   },
   {
    "duration": 164,
    "start_time": "2024-10-20T07:28:15.365Z"
   },
   {
    "duration": 6630,
    "start_time": "2024-10-20T09:36:01.573Z"
   },
   {
    "duration": 3,
    "start_time": "2024-10-20T09:36:08.204Z"
   },
   {
    "duration": 172,
    "start_time": "2024-10-20T09:36:08.209Z"
   },
   {
    "duration": 18,
    "start_time": "2024-10-20T09:36:08.382Z"
   },
   {
    "duration": 6,
    "start_time": "2024-10-20T09:36:08.403Z"
   },
   {
    "duration": 18,
    "start_time": "2024-10-20T09:36:08.410Z"
   },
   {
    "duration": 4,
    "start_time": "2024-10-20T09:36:08.430Z"
   },
   {
    "duration": 206,
    "start_time": "2024-10-20T09:36:08.435Z"
   },
   {
    "duration": 177,
    "start_time": "2024-10-20T09:36:08.643Z"
   },
   {
    "duration": 227,
    "start_time": "2024-10-20T09:36:08.821Z"
   },
   {
    "duration": 116,
    "start_time": "2024-10-20T09:36:09.049Z"
   },
   {
    "duration": 191,
    "start_time": "2024-10-20T09:36:09.166Z"
   },
   {
    "duration": 4,
    "start_time": "2024-10-20T09:36:09.358Z"
   },
   {
    "duration": 12,
    "start_time": "2024-10-20T09:36:09.364Z"
   },
   {
    "duration": 6,
    "start_time": "2024-10-20T09:36:09.377Z"
   },
   {
    "duration": 4,
    "start_time": "2024-10-20T09:36:09.384Z"
   },
   {
    "duration": 10,
    "start_time": "2024-10-20T09:36:09.389Z"
   },
   {
    "duration": 17,
    "start_time": "2024-10-20T09:37:03.080Z"
   },
   {
    "duration": 5,
    "start_time": "2024-10-20T09:37:33.761Z"
   },
   {
    "duration": 5,
    "start_time": "2024-10-20T09:37:41.575Z"
   },
   {
    "duration": 4398,
    "start_time": "2024-10-20T09:41:38.622Z"
   },
   {
    "duration": 2,
    "start_time": "2024-10-20T09:41:43.022Z"
   },
   {
    "duration": 60,
    "start_time": "2024-10-20T09:41:43.025Z"
   },
   {
    "duration": 14,
    "start_time": "2024-10-20T09:41:43.087Z"
   },
   {
    "duration": 5,
    "start_time": "2024-10-20T09:41:43.102Z"
   },
   {
    "duration": 9,
    "start_time": "2024-10-20T09:41:43.108Z"
   },
   {
    "duration": 3,
    "start_time": "2024-10-20T09:41:43.118Z"
   },
   {
    "duration": 226,
    "start_time": "2024-10-20T09:41:43.123Z"
   },
   {
    "duration": 186,
    "start_time": "2024-10-20T09:41:43.351Z"
   },
   {
    "duration": 237,
    "start_time": "2024-10-20T09:41:43.539Z"
   },
   {
    "duration": 124,
    "start_time": "2024-10-20T09:41:43.778Z"
   },
   {
    "duration": 194,
    "start_time": "2024-10-20T09:41:43.904Z"
   },
   {
    "duration": 4,
    "start_time": "2024-10-20T09:41:44.099Z"
   },
   {
    "duration": 10,
    "start_time": "2024-10-20T09:41:44.104Z"
   },
   {
    "duration": 6,
    "start_time": "2024-10-20T09:41:44.115Z"
   },
   {
    "duration": 5,
    "start_time": "2024-10-20T09:41:44.122Z"
   },
   {
    "duration": 9,
    "start_time": "2024-10-20T09:41:44.128Z"
   },
   {
    "duration": 31,
    "start_time": "2024-10-20T09:41:44.138Z"
   },
   {
    "duration": 3,
    "start_time": "2024-10-20T09:41:44.170Z"
   },
   {
    "duration": 31688,
    "start_time": "2024-10-20T09:41:44.175Z"
   },
   {
    "duration": 6,
    "start_time": "2024-10-20T09:42:15.871Z"
   },
   {
    "duration": 87,
    "start_time": "2024-10-20T09:42:15.879Z"
   },
   {
    "duration": 3,
    "start_time": "2024-10-20T09:42:15.971Z"
   },
   {
    "duration": 225,
    "start_time": "2024-10-20T09:42:15.975Z"
   },
   {
    "duration": 3,
    "start_time": "2024-10-20T09:43:14.068Z"
   },
   {
    "duration": 128,
    "start_time": "2024-10-20T09:50:48.353Z"
   },
   {
    "duration": 8,
    "start_time": "2024-10-20T09:51:10.194Z"
   },
   {
    "duration": 49,
    "start_time": "2024-10-20T11:26:52.175Z"
   },
   {
    "duration": 9156,
    "start_time": "2024-10-20T11:26:58.759Z"
   },
   {
    "duration": 5,
    "start_time": "2024-10-20T11:27:07.917Z"
   },
   {
    "duration": 221,
    "start_time": "2024-10-20T11:27:07.923Z"
   },
   {
    "duration": 18,
    "start_time": "2024-10-20T11:27:08.147Z"
   },
   {
    "duration": 5,
    "start_time": "2024-10-20T11:27:08.166Z"
   },
   {
    "duration": 26,
    "start_time": "2024-10-20T11:27:08.173Z"
   },
   {
    "duration": 7,
    "start_time": "2024-10-20T11:27:08.200Z"
   },
   {
    "duration": 226,
    "start_time": "2024-10-20T11:27:08.208Z"
   },
   {
    "duration": 207,
    "start_time": "2024-10-20T11:27:08.436Z"
   },
   {
    "duration": 304,
    "start_time": "2024-10-20T11:27:08.645Z"
   },
   {
    "duration": 170,
    "start_time": "2024-10-20T11:27:08.951Z"
   },
   {
    "duration": 220,
    "start_time": "2024-10-20T11:27:09.122Z"
   },
   {
    "duration": 4,
    "start_time": "2024-10-20T11:27:09.343Z"
   },
   {
    "duration": 11,
    "start_time": "2024-10-20T11:27:09.348Z"
   },
   {
    "duration": 136,
    "start_time": "2024-10-20T11:27:09.360Z"
   },
   {
    "duration": 0,
    "start_time": "2024-10-20T11:27:09.498Z"
   },
   {
    "duration": 0,
    "start_time": "2024-10-20T11:27:09.499Z"
   },
   {
    "duration": 0,
    "start_time": "2024-10-20T11:27:09.500Z"
   },
   {
    "duration": 0,
    "start_time": "2024-10-20T11:27:09.502Z"
   },
   {
    "duration": 0,
    "start_time": "2024-10-20T11:27:09.503Z"
   },
   {
    "duration": 0,
    "start_time": "2024-10-20T11:27:09.504Z"
   },
   {
    "duration": 0,
    "start_time": "2024-10-20T11:27:09.504Z"
   },
   {
    "duration": 0,
    "start_time": "2024-10-20T11:27:09.521Z"
   },
   {
    "duration": 0,
    "start_time": "2024-10-20T11:27:09.522Z"
   },
   {
    "duration": 0,
    "start_time": "2024-10-20T11:27:09.524Z"
   },
   {
    "duration": 58,
    "start_time": "2024-10-20T13:13:12.027Z"
   },
   {
    "duration": 2917,
    "start_time": "2024-10-20T13:13:18.942Z"
   },
   {
    "duration": 24,
    "start_time": "2024-10-20T13:20:10.774Z"
   },
   {
    "duration": 24,
    "start_time": "2024-10-20T13:20:22.058Z"
   },
   {
    "duration": 10,
    "start_time": "2024-10-20T13:20:28.869Z"
   },
   {
    "duration": 62,
    "start_time": "2024-10-20T13:20:36.318Z"
   },
   {
    "duration": 11,
    "start_time": "2024-10-20T13:20:40.967Z"
   },
   {
    "duration": 4225,
    "start_time": "2024-10-20T13:21:10.706Z"
   },
   {
    "duration": 3,
    "start_time": "2024-10-20T13:21:14.933Z"
   },
   {
    "duration": 155,
    "start_time": "2024-10-20T13:21:14.937Z"
   },
   {
    "duration": 16,
    "start_time": "2024-10-20T13:21:15.094Z"
   },
   {
    "duration": 25,
    "start_time": "2024-10-20T13:21:15.112Z"
   },
   {
    "duration": 14,
    "start_time": "2024-10-20T13:21:15.139Z"
   },
   {
    "duration": 4,
    "start_time": "2024-10-20T13:21:15.154Z"
   },
   {
    "duration": 237,
    "start_time": "2024-10-20T13:21:15.159Z"
   },
   {
    "duration": 206,
    "start_time": "2024-10-20T13:21:15.397Z"
   },
   {
    "duration": 269,
    "start_time": "2024-10-20T13:21:15.604Z"
   },
   {
    "duration": 133,
    "start_time": "2024-10-20T13:21:15.874Z"
   },
   {
    "duration": 213,
    "start_time": "2024-10-20T13:21:16.009Z"
   },
   {
    "duration": 51,
    "start_time": "2024-10-20T13:21:16.224Z"
   },
   {
    "duration": 0,
    "start_time": "2024-10-20T13:21:16.277Z"
   },
   {
    "duration": 0,
    "start_time": "2024-10-20T13:21:16.278Z"
   },
   {
    "duration": 0,
    "start_time": "2024-10-20T13:21:16.280Z"
   },
   {
    "duration": 0,
    "start_time": "2024-10-20T13:21:16.281Z"
   },
   {
    "duration": 0,
    "start_time": "2024-10-20T13:21:16.282Z"
   },
   {
    "duration": 0,
    "start_time": "2024-10-20T13:21:16.283Z"
   },
   {
    "duration": 0,
    "start_time": "2024-10-20T13:21:16.284Z"
   },
   {
    "duration": 0,
    "start_time": "2024-10-20T13:21:16.286Z"
   },
   {
    "duration": 0,
    "start_time": "2024-10-20T13:21:16.287Z"
   },
   {
    "duration": 0,
    "start_time": "2024-10-20T13:21:16.288Z"
   },
   {
    "duration": 0,
    "start_time": "2024-10-20T13:21:16.289Z"
   },
   {
    "duration": 0,
    "start_time": "2024-10-20T13:21:16.290Z"
   },
   {
    "duration": 0,
    "start_time": "2024-10-20T13:21:16.291Z"
   },
   {
    "duration": 116,
    "start_time": "2024-10-20T13:21:24.025Z"
   },
   {
    "duration": 1841,
    "start_time": "2024-10-20T13:22:31.888Z"
   },
   {
    "duration": 2527,
    "start_time": "2024-10-20T13:43:15.296Z"
   },
   {
    "duration": 1928,
    "start_time": "2024-10-20T13:44:23.996Z"
   },
   {
    "duration": 1858,
    "start_time": "2024-10-20T13:45:28.169Z"
   },
   {
    "duration": 1900,
    "start_time": "2024-10-20T13:51:19.829Z"
   },
   {
    "duration": 1812,
    "start_time": "2024-10-20T13:51:29.918Z"
   },
   {
    "duration": 1744,
    "start_time": "2024-10-20T13:51:47.684Z"
   },
   {
    "duration": 7,
    "start_time": "2024-10-20T13:59:31.296Z"
   },
   {
    "duration": 53,
    "start_time": "2024-10-20T14:01:18.489Z"
   },
   {
    "duration": 60,
    "start_time": "2024-10-20T14:01:22.743Z"
   },
   {
    "duration": 204,
    "start_time": "2024-10-20T14:01:30.297Z"
   },
   {
    "duration": 212,
    "start_time": "2024-10-20T14:02:35.168Z"
   },
   {
    "duration": 205,
    "start_time": "2024-10-20T14:04:55.928Z"
   },
   {
    "duration": 215,
    "start_time": "2024-10-20T14:08:01.745Z"
   },
   {
    "duration": 4,
    "start_time": "2024-10-20T14:16:54.774Z"
   },
   {
    "duration": 4264,
    "start_time": "2024-10-20T14:20:47.157Z"
   },
   {
    "duration": 2,
    "start_time": "2024-10-20T14:20:51.423Z"
   },
   {
    "duration": 60,
    "start_time": "2024-10-20T14:20:51.427Z"
   },
   {
    "duration": 16,
    "start_time": "2024-10-20T14:20:51.490Z"
   },
   {
    "duration": 5,
    "start_time": "2024-10-20T14:20:51.507Z"
   },
   {
    "duration": 27,
    "start_time": "2024-10-20T14:20:51.513Z"
   },
   {
    "duration": 11,
    "start_time": "2024-10-20T14:20:51.541Z"
   },
   {
    "duration": 219,
    "start_time": "2024-10-20T14:20:51.553Z"
   },
   {
    "duration": 212,
    "start_time": "2024-10-20T14:20:51.774Z"
   },
   {
    "duration": 290,
    "start_time": "2024-10-20T14:20:51.989Z"
   },
   {
    "duration": 159,
    "start_time": "2024-10-20T14:20:52.281Z"
   },
   {
    "duration": 221,
    "start_time": "2024-10-20T14:20:52.442Z"
   },
   {
    "duration": 221,
    "start_time": "2024-10-20T14:20:52.665Z"
   },
   {
    "duration": 2040,
    "start_time": "2024-10-20T14:20:52.888Z"
   },
   {
    "duration": 92,
    "start_time": "2024-10-20T14:20:54.930Z"
   },
   {
    "duration": 103,
    "start_time": "2024-10-20T14:20:55.025Z"
   },
   {
    "duration": 150,
    "start_time": "2024-10-20T14:20:55.130Z"
   },
   {
    "duration": 0,
    "start_time": "2024-10-20T14:20:55.281Z"
   },
   {
    "duration": 0,
    "start_time": "2024-10-20T14:20:55.282Z"
   },
   {
    "duration": 0,
    "start_time": "2024-10-20T14:20:55.284Z"
   },
   {
    "duration": 1,
    "start_time": "2024-10-20T14:20:55.285Z"
   },
   {
    "duration": 0,
    "start_time": "2024-10-20T14:20:55.287Z"
   },
   {
    "duration": 0,
    "start_time": "2024-10-20T14:20:55.287Z"
   },
   {
    "duration": 0,
    "start_time": "2024-10-20T14:20:55.288Z"
   },
   {
    "duration": 0,
    "start_time": "2024-10-20T14:20:55.289Z"
   },
   {
    "duration": 0,
    "start_time": "2024-10-20T14:20:55.290Z"
   },
   {
    "duration": 0,
    "start_time": "2024-10-20T14:20:55.291Z"
   },
   {
    "duration": 0,
    "start_time": "2024-10-20T14:20:55.293Z"
   },
   {
    "duration": 10,
    "start_time": "2024-10-20T14:22:07.530Z"
   },
   {
    "duration": 8,
    "start_time": "2024-10-20T14:22:22.937Z"
   },
   {
    "duration": 5,
    "start_time": "2024-10-20T14:22:25.109Z"
   },
   {
    "duration": 4,
    "start_time": "2024-10-20T14:36:29.484Z"
   },
   {
    "duration": 7,
    "start_time": "2024-10-20T14:36:33.240Z"
   },
   {
    "duration": 4234,
    "start_time": "2024-10-20T14:36:40.692Z"
   },
   {
    "duration": 3,
    "start_time": "2024-10-20T14:36:44.928Z"
   },
   {
    "duration": 73,
    "start_time": "2024-10-20T14:36:44.932Z"
   },
   {
    "duration": 17,
    "start_time": "2024-10-20T14:36:45.007Z"
   },
   {
    "duration": 32,
    "start_time": "2024-10-20T14:36:45.026Z"
   },
   {
    "duration": 41,
    "start_time": "2024-10-20T14:36:45.060Z"
   },
   {
    "duration": 6,
    "start_time": "2024-10-20T14:36:45.103Z"
   },
   {
    "duration": 251,
    "start_time": "2024-10-20T14:36:45.111Z"
   },
   {
    "duration": 207,
    "start_time": "2024-10-20T14:36:45.363Z"
   },
   {
    "duration": 271,
    "start_time": "2024-10-20T14:36:45.572Z"
   },
   {
    "duration": 140,
    "start_time": "2024-10-20T14:36:45.845Z"
   },
   {
    "duration": 206,
    "start_time": "2024-10-20T14:36:45.987Z"
   },
   {
    "duration": 209,
    "start_time": "2024-10-20T14:36:46.194Z"
   },
   {
    "duration": 4234,
    "start_time": "2024-10-20T14:40:44.883Z"
   },
   {
    "duration": 2,
    "start_time": "2024-10-20T14:40:49.121Z"
   },
   {
    "duration": 62,
    "start_time": "2024-10-20T14:40:49.125Z"
   },
   {
    "duration": 17,
    "start_time": "2024-10-20T14:40:49.189Z"
   },
   {
    "duration": 5,
    "start_time": "2024-10-20T14:40:49.208Z"
   },
   {
    "duration": 7,
    "start_time": "2024-10-20T14:40:49.215Z"
   },
   {
    "duration": 4,
    "start_time": "2024-10-20T14:40:49.224Z"
   },
   {
    "duration": 231,
    "start_time": "2024-10-20T14:40:49.229Z"
   },
   {
    "duration": 200,
    "start_time": "2024-10-20T14:40:49.462Z"
   },
   {
    "duration": 282,
    "start_time": "2024-10-20T14:40:49.664Z"
   },
   {
    "duration": 146,
    "start_time": "2024-10-20T14:40:49.948Z"
   },
   {
    "duration": 220,
    "start_time": "2024-10-20T14:40:50.095Z"
   },
   {
    "duration": 218,
    "start_time": "2024-10-20T14:40:50.320Z"
   },
   {
    "duration": 1890,
    "start_time": "2024-10-20T14:40:50.540Z"
   },
   {
    "duration": 5,
    "start_time": "2024-10-20T14:40:52.522Z"
   },
   {
    "duration": 140,
    "start_time": "2024-10-20T14:40:52.531Z"
   },
   {
    "duration": 0,
    "start_time": "2024-10-20T14:40:52.673Z"
   },
   {
    "duration": 0,
    "start_time": "2024-10-20T14:40:52.675Z"
   },
   {
    "duration": 0,
    "start_time": "2024-10-20T14:40:52.677Z"
   },
   {
    "duration": 0,
    "start_time": "2024-10-20T14:40:52.678Z"
   },
   {
    "duration": 0,
    "start_time": "2024-10-20T14:40:52.680Z"
   },
   {
    "duration": 0,
    "start_time": "2024-10-20T14:40:52.681Z"
   },
   {
    "duration": 0,
    "start_time": "2024-10-20T14:40:52.683Z"
   },
   {
    "duration": 0,
    "start_time": "2024-10-20T14:40:52.684Z"
   },
   {
    "duration": 0,
    "start_time": "2024-10-20T14:40:52.686Z"
   },
   {
    "duration": 0,
    "start_time": "2024-10-20T14:40:52.687Z"
   },
   {
    "duration": 0,
    "start_time": "2024-10-20T14:40:52.689Z"
   },
   {
    "duration": 0,
    "start_time": "2024-10-20T14:40:52.690Z"
   },
   {
    "duration": 8,
    "start_time": "2024-10-20T14:40:59.648Z"
   },
   {
    "duration": 122,
    "start_time": "2024-10-20T14:41:01.512Z"
   },
   {
    "duration": 2876,
    "start_time": "2024-10-20T14:42:40.254Z"
   },
   {
    "duration": 11,
    "start_time": "2024-10-20T14:42:53.903Z"
   },
   {
    "duration": 4243,
    "start_time": "2024-10-20T14:43:01.727Z"
   },
   {
    "duration": 0,
    "start_time": "2024-10-20T14:43:05.973Z"
   },
   {
    "duration": 0,
    "start_time": "2024-10-20T14:43:05.974Z"
   },
   {
    "duration": 0,
    "start_time": "2024-10-20T14:43:05.975Z"
   },
   {
    "duration": 0,
    "start_time": "2024-10-20T14:43:05.976Z"
   },
   {
    "duration": 0,
    "start_time": "2024-10-20T14:43:05.977Z"
   },
   {
    "duration": 0,
    "start_time": "2024-10-20T14:43:05.978Z"
   },
   {
    "duration": 0,
    "start_time": "2024-10-20T14:43:05.979Z"
   },
   {
    "duration": 0,
    "start_time": "2024-10-20T14:43:05.981Z"
   },
   {
    "duration": 0,
    "start_time": "2024-10-20T14:43:05.982Z"
   },
   {
    "duration": 0,
    "start_time": "2024-10-20T14:43:05.983Z"
   },
   {
    "duration": 0,
    "start_time": "2024-10-20T14:43:05.984Z"
   },
   {
    "duration": 0,
    "start_time": "2024-10-20T14:43:05.985Z"
   },
   {
    "duration": 0,
    "start_time": "2024-10-20T14:43:05.986Z"
   },
   {
    "duration": 0,
    "start_time": "2024-10-20T14:43:05.987Z"
   },
   {
    "duration": 0,
    "start_time": "2024-10-20T14:43:05.987Z"
   },
   {
    "duration": 0,
    "start_time": "2024-10-20T14:43:05.988Z"
   },
   {
    "duration": 0,
    "start_time": "2024-10-20T14:43:05.989Z"
   },
   {
    "duration": 0,
    "start_time": "2024-10-20T14:43:05.990Z"
   },
   {
    "duration": 0,
    "start_time": "2024-10-20T14:43:06.020Z"
   },
   {
    "duration": 0,
    "start_time": "2024-10-20T14:43:06.021Z"
   },
   {
    "duration": 0,
    "start_time": "2024-10-20T14:43:06.022Z"
   },
   {
    "duration": 0,
    "start_time": "2024-10-20T14:43:06.023Z"
   },
   {
    "duration": 0,
    "start_time": "2024-10-20T14:43:06.025Z"
   },
   {
    "duration": 0,
    "start_time": "2024-10-20T14:43:06.026Z"
   },
   {
    "duration": 0,
    "start_time": "2024-10-20T14:43:06.027Z"
   },
   {
    "duration": 0,
    "start_time": "2024-10-20T14:43:06.028Z"
   },
   {
    "duration": 0,
    "start_time": "2024-10-20T14:43:06.029Z"
   },
   {
    "duration": 7297,
    "start_time": "2024-10-20T14:43:56.179Z"
   },
   {
    "duration": 3,
    "start_time": "2024-10-20T14:44:03.478Z"
   },
   {
    "duration": 60,
    "start_time": "2024-10-20T14:44:03.483Z"
   },
   {
    "duration": 18,
    "start_time": "2024-10-20T14:44:03.544Z"
   },
   {
    "duration": 38,
    "start_time": "2024-10-20T14:44:03.564Z"
   },
   {
    "duration": 11,
    "start_time": "2024-10-20T14:44:03.604Z"
   },
   {
    "duration": 32,
    "start_time": "2024-10-20T14:44:03.617Z"
   },
   {
    "duration": 230,
    "start_time": "2024-10-20T14:44:03.650Z"
   },
   {
    "duration": 204,
    "start_time": "2024-10-20T14:44:03.881Z"
   },
   {
    "duration": 292,
    "start_time": "2024-10-20T14:44:04.086Z"
   },
   {
    "duration": 143,
    "start_time": "2024-10-20T14:44:04.380Z"
   },
   {
    "duration": 220,
    "start_time": "2024-10-20T14:44:04.525Z"
   },
   {
    "duration": 213,
    "start_time": "2024-10-20T14:44:04.746Z"
   },
   {
    "duration": 1867,
    "start_time": "2024-10-20T14:44:04.962Z"
   },
   {
    "duration": 96,
    "start_time": "2024-10-20T14:44:06.830Z"
   },
   {
    "duration": 109,
    "start_time": "2024-10-20T14:44:06.931Z"
   },
   {
    "duration": 448,
    "start_time": "2024-10-20T14:44:07.041Z"
   },
   {
    "duration": 0,
    "start_time": "2024-10-20T14:44:07.490Z"
   },
   {
    "duration": 0,
    "start_time": "2024-10-20T14:44:07.491Z"
   },
   {
    "duration": 0,
    "start_time": "2024-10-20T14:44:07.493Z"
   },
   {
    "duration": 0,
    "start_time": "2024-10-20T14:44:07.494Z"
   },
   {
    "duration": 0,
    "start_time": "2024-10-20T14:44:07.495Z"
   },
   {
    "duration": 0,
    "start_time": "2024-10-20T14:44:07.496Z"
   },
   {
    "duration": 0,
    "start_time": "2024-10-20T14:44:07.497Z"
   },
   {
    "duration": 0,
    "start_time": "2024-10-20T14:44:07.499Z"
   },
   {
    "duration": 0,
    "start_time": "2024-10-20T14:44:07.500Z"
   },
   {
    "duration": 0,
    "start_time": "2024-10-20T14:44:07.521Z"
   },
   {
    "duration": 0,
    "start_time": "2024-10-20T14:44:07.522Z"
   },
   {
    "duration": 298,
    "start_time": "2024-10-20T14:44:30.807Z"
   },
   {
    "duration": 5613,
    "start_time": "2024-10-20T14:45:05.895Z"
   },
   {
    "duration": 1622,
    "start_time": "2024-10-20T14:45:18.408Z"
   },
   {
    "duration": 5554,
    "start_time": "2024-10-20T14:50:29.649Z"
   },
   {
    "duration": 3,
    "start_time": "2024-10-20T14:50:38.221Z"
   },
   {
    "duration": 55,
    "start_time": "2024-10-20T14:51:12.293Z"
   },
   {
    "duration": 109,
    "start_time": "2024-10-20T14:52:24.138Z"
   },
   {
    "duration": 904,
    "start_time": "2024-10-20T14:53:10.192Z"
   },
   {
    "duration": 1032,
    "start_time": "2024-10-20T14:53:59.853Z"
   },
   {
    "duration": 20,
    "start_time": "2024-10-20T14:54:08.440Z"
   },
   {
    "duration": 888,
    "start_time": "2024-10-20T14:56:19.773Z"
   },
   {
    "duration": 9,
    "start_time": "2024-10-20T14:56:30.099Z"
   },
   {
    "duration": 55,
    "start_time": "2024-10-20T14:58:50.582Z"
   },
   {
    "duration": 2,
    "start_time": "2024-10-20T14:58:56.828Z"
   },
   {
    "duration": 9,
    "start_time": "2024-10-20T14:59:04.709Z"
   },
   {
    "duration": 1672,
    "start_time": "2024-10-20T14:59:08.531Z"
   },
   {
    "duration": 50,
    "start_time": "2024-10-20T14:59:18.751Z"
   },
   {
    "duration": 10,
    "start_time": "2024-10-20T14:59:22.633Z"
   },
   {
    "duration": 119,
    "start_time": "2024-10-20T14:59:29.613Z"
   },
   {
    "duration": 9,
    "start_time": "2024-10-20T15:00:04.169Z"
   },
   {
    "duration": 3,
    "start_time": "2024-10-20T15:00:16.790Z"
   },
   {
    "duration": 6,
    "start_time": "2024-10-20T15:00:18.199Z"
   },
   {
    "duration": 103,
    "start_time": "2024-10-20T15:03:10.183Z"
   },
   {
    "duration": 108,
    "start_time": "2024-10-20T15:05:00.532Z"
   },
   {
    "duration": 108,
    "start_time": "2024-10-20T15:05:14.532Z"
   },
   {
    "duration": 3,
    "start_time": "2024-10-20T15:05:25.754Z"
   },
   {
    "duration": 18,
    "start_time": "2024-10-20T15:05:29.725Z"
   },
   {
    "duration": 4,
    "start_time": "2024-10-20T15:05:33.136Z"
   },
   {
    "duration": 102,
    "start_time": "2024-10-20T15:05:44.458Z"
   },
   {
    "duration": 9,
    "start_time": "2024-10-20T15:11:21.102Z"
   },
   {
    "duration": 107,
    "start_time": "2024-10-20T15:11:38.078Z"
   },
   {
    "duration": 102,
    "start_time": "2024-10-20T15:12:48.706Z"
   },
   {
    "duration": 7,
    "start_time": "2024-10-20T15:13:23.937Z"
   },
   {
    "duration": 103,
    "start_time": "2024-10-20T15:13:29.267Z"
   },
   {
    "duration": 103,
    "start_time": "2024-10-20T15:13:36.247Z"
   },
   {
    "duration": 306,
    "start_time": "2024-10-20T15:13:43.968Z"
   },
   {
    "duration": 359,
    "start_time": "2024-10-20T15:14:13.206Z"
   },
   {
    "duration": 96,
    "start_time": "2024-10-20T15:14:58.343Z"
   },
   {
    "duration": 6,
    "start_time": "2024-10-20T15:17:08.457Z"
   },
   {
    "duration": 5,
    "start_time": "2024-10-20T15:17:10.132Z"
   },
   {
    "duration": 3,
    "start_time": "2024-10-20T15:17:12.417Z"
   },
   {
    "duration": 5433,
    "start_time": "2024-10-20T15:19:02.453Z"
   },
   {
    "duration": 23,
    "start_time": "2024-10-20T15:20:03.314Z"
   },
   {
    "duration": 4,
    "start_time": "2024-10-20T15:20:06.414Z"
   },
   {
    "duration": 4,
    "start_time": "2024-10-20T15:20:06.665Z"
   },
   {
    "duration": 3,
    "start_time": "2024-10-20T15:20:06.901Z"
   },
   {
    "duration": 24368,
    "start_time": "2024-10-20T15:21:52.264Z"
   },
   {
    "duration": 4,
    "start_time": "2024-10-20T15:22:16.634Z"
   },
   {
    "duration": 26,
    "start_time": "2024-10-20T15:22:16.639Z"
   },
   {
    "duration": 4,
    "start_time": "2024-10-20T15:22:16.720Z"
   },
   {
    "duration": 149,
    "start_time": "2024-10-20T15:22:16.726Z"
   },
   {
    "duration": 6954,
    "start_time": "2024-10-20T15:26:42.801Z"
   },
   {
    "duration": 2,
    "start_time": "2024-10-20T15:26:49.757Z"
   },
   {
    "duration": 68,
    "start_time": "2024-10-20T15:26:49.761Z"
   },
   {
    "duration": 17,
    "start_time": "2024-10-20T15:26:49.830Z"
   },
   {
    "duration": 4,
    "start_time": "2024-10-20T15:26:49.849Z"
   },
   {
    "duration": 10,
    "start_time": "2024-10-20T15:26:49.854Z"
   },
   {
    "duration": 3,
    "start_time": "2024-10-20T15:26:49.866Z"
   },
   {
    "duration": 251,
    "start_time": "2024-10-20T15:26:49.870Z"
   },
   {
    "duration": 210,
    "start_time": "2024-10-20T15:26:50.122Z"
   },
   {
    "duration": 290,
    "start_time": "2024-10-20T15:26:50.334Z"
   },
   {
    "duration": 147,
    "start_time": "2024-10-20T15:26:50.626Z"
   },
   {
    "duration": 210,
    "start_time": "2024-10-20T15:26:50.775Z"
   },
   {
    "duration": 212,
    "start_time": "2024-10-20T15:26:50.987Z"
   },
   {
    "duration": 1726,
    "start_time": "2024-10-20T15:26:51.202Z"
   },
   {
    "duration": 4,
    "start_time": "2024-10-20T15:26:52.930Z"
   },
   {
    "duration": 102,
    "start_time": "2024-10-20T15:26:53.022Z"
   },
   {
    "duration": 1463,
    "start_time": "2024-10-20T15:26:53.126Z"
   },
   {
    "duration": 8,
    "start_time": "2024-10-20T15:26:54.591Z"
   },
   {
    "duration": 40,
    "start_time": "2024-10-20T15:26:54.600Z"
   },
   {
    "duration": 22,
    "start_time": "2024-10-20T15:26:54.641Z"
   },
   {
    "duration": 5,
    "start_time": "2024-10-20T15:26:54.664Z"
   },
   {
    "duration": 3,
    "start_time": "2024-10-20T15:26:54.670Z"
   },
   {
    "duration": 22278,
    "start_time": "2024-10-20T15:26:54.674Z"
   },
   {
    "duration": 3,
    "start_time": "2024-10-20T15:27:16.954Z"
   },
   {
    "duration": 68,
    "start_time": "2024-10-20T15:27:16.959Z"
   },
   {
    "duration": 25,
    "start_time": "2024-10-20T15:27:17.029Z"
   },
   {
    "duration": 148,
    "start_time": "2024-10-20T15:27:17.056Z"
   },
   {
    "duration": 6794,
    "start_time": "2024-10-20T15:29:36.259Z"
   },
   {
    "duration": 2,
    "start_time": "2024-10-20T15:29:43.055Z"
   },
   {
    "duration": 59,
    "start_time": "2024-10-20T15:29:43.059Z"
   },
   {
    "duration": 15,
    "start_time": "2024-10-20T15:29:43.119Z"
   },
   {
    "duration": 5,
    "start_time": "2024-10-20T15:29:43.135Z"
   },
   {
    "duration": 12,
    "start_time": "2024-10-20T15:29:43.141Z"
   },
   {
    "duration": 3,
    "start_time": "2024-10-20T15:29:43.154Z"
   },
   {
    "duration": 230,
    "start_time": "2024-10-20T15:29:43.159Z"
   },
   {
    "duration": 203,
    "start_time": "2024-10-20T15:29:43.391Z"
   },
   {
    "duration": 282,
    "start_time": "2024-10-20T15:29:43.597Z"
   },
   {
    "duration": 142,
    "start_time": "2024-10-20T15:29:43.881Z"
   },
   {
    "duration": 211,
    "start_time": "2024-10-20T15:29:44.025Z"
   },
   {
    "duration": 212,
    "start_time": "2024-10-20T15:29:44.238Z"
   },
   {
    "duration": 1873,
    "start_time": "2024-10-20T15:29:44.452Z"
   },
   {
    "duration": 93,
    "start_time": "2024-10-20T15:29:46.327Z"
   },
   {
    "duration": 97,
    "start_time": "2024-10-20T15:29:46.424Z"
   },
   {
    "duration": 1530,
    "start_time": "2024-10-20T15:29:46.523Z"
   },
   {
    "duration": 8,
    "start_time": "2024-10-20T15:29:48.055Z"
   },
   {
    "duration": 71,
    "start_time": "2024-10-20T15:29:48.064Z"
   },
   {
    "duration": 10,
    "start_time": "2024-10-20T15:29:48.136Z"
   },
   {
    "duration": 4,
    "start_time": "2024-10-20T15:29:48.147Z"
   },
   {
    "duration": 4,
    "start_time": "2024-10-20T15:29:48.152Z"
   },
   {
    "duration": 21979,
    "start_time": "2024-10-20T15:29:48.157Z"
   },
   {
    "duration": 4,
    "start_time": "2024-10-20T15:30:10.137Z"
   },
   {
    "duration": 10,
    "start_time": "2024-10-20T15:30:10.143Z"
   },
   {
    "duration": 4,
    "start_time": "2024-10-20T15:30:10.154Z"
   },
   {
    "duration": 190,
    "start_time": "2024-10-20T15:30:10.159Z"
   },
   {
    "duration": 11901,
    "start_time": "2024-10-21T07:23:46.566Z"
   },
   {
    "duration": 2,
    "start_time": "2024-10-21T07:23:58.469Z"
   },
   {
    "duration": 165,
    "start_time": "2024-10-21T07:23:58.472Z"
   },
   {
    "duration": 14,
    "start_time": "2024-10-21T07:23:58.639Z"
   },
   {
    "duration": 4,
    "start_time": "2024-10-21T07:23:58.655Z"
   },
   {
    "duration": 8,
    "start_time": "2024-10-21T07:23:58.660Z"
   },
   {
    "duration": 14,
    "start_time": "2024-10-21T07:23:58.669Z"
   },
   {
    "duration": 201,
    "start_time": "2024-10-21T07:23:58.684Z"
   },
   {
    "duration": 172,
    "start_time": "2024-10-21T07:23:58.886Z"
   },
   {
    "duration": 218,
    "start_time": "2024-10-21T07:23:59.060Z"
   },
   {
    "duration": 115,
    "start_time": "2024-10-21T07:23:59.280Z"
   },
   {
    "duration": 184,
    "start_time": "2024-10-21T07:23:59.396Z"
   },
   {
    "duration": 180,
    "start_time": "2024-10-21T07:23:59.581Z"
   },
   {
    "duration": 1499,
    "start_time": "2024-10-21T07:23:59.763Z"
   },
   {
    "duration": 93,
    "start_time": "2024-10-21T07:24:01.267Z"
   },
   {
    "duration": 112,
    "start_time": "2024-10-21T07:24:01.365Z"
   },
   {
    "duration": 1413,
    "start_time": "2024-10-21T07:24:01.479Z"
   },
   {
    "duration": 45,
    "start_time": "2024-10-21T15:20:39.555Z"
   },
   {
    "duration": 6,
    "start_time": "2024-10-21T15:20:40.437Z"
   },
   {
    "duration": 11440,
    "start_time": "2024-10-21T15:20:48.762Z"
   },
   {
    "duration": 3,
    "start_time": "2024-10-21T15:21:00.203Z"
   },
   {
    "duration": 171,
    "start_time": "2024-10-21T15:21:00.207Z"
   },
   {
    "duration": 14,
    "start_time": "2024-10-21T15:21:00.380Z"
   },
   {
    "duration": 21,
    "start_time": "2024-10-21T15:21:00.396Z"
   },
   {
    "duration": 36,
    "start_time": "2024-10-21T15:21:00.419Z"
   },
   {
    "duration": 44,
    "start_time": "2024-10-21T15:21:00.456Z"
   },
   {
    "duration": 219,
    "start_time": "2024-10-21T15:21:00.502Z"
   },
   {
    "duration": 179,
    "start_time": "2024-10-21T15:21:00.723Z"
   },
   {
    "duration": 228,
    "start_time": "2024-10-21T15:21:00.904Z"
   },
   {
    "duration": 129,
    "start_time": "2024-10-21T15:21:01.134Z"
   },
   {
    "duration": 197,
    "start_time": "2024-10-21T15:21:01.265Z"
   },
   {
    "duration": 189,
    "start_time": "2024-10-21T15:21:01.464Z"
   },
   {
    "duration": 1705,
    "start_time": "2024-10-21T15:21:01.657Z"
   },
   {
    "duration": 4,
    "start_time": "2024-10-21T15:21:03.363Z"
   },
   {
    "duration": 189,
    "start_time": "2024-10-21T15:21:03.368Z"
   },
   {
    "duration": 57,
    "start_time": "2024-10-21T15:21:03.559Z"
   },
   {
    "duration": 0,
    "start_time": "2024-10-21T15:21:03.618Z"
   },
   {
    "duration": 0,
    "start_time": "2024-10-21T15:21:03.619Z"
   },
   {
    "duration": 0,
    "start_time": "2024-10-21T15:21:03.620Z"
   },
   {
    "duration": 0,
    "start_time": "2024-10-21T15:21:03.622Z"
   },
   {
    "duration": 0,
    "start_time": "2024-10-21T15:21:03.623Z"
   },
   {
    "duration": 0,
    "start_time": "2024-10-21T15:21:03.624Z"
   },
   {
    "duration": 0,
    "start_time": "2024-10-21T15:21:03.626Z"
   },
   {
    "duration": 0,
    "start_time": "2024-10-21T15:21:03.627Z"
   },
   {
    "duration": 0,
    "start_time": "2024-10-21T15:21:03.628Z"
   },
   {
    "duration": 0,
    "start_time": "2024-10-21T15:21:03.629Z"
   },
   {
    "duration": 1347,
    "start_time": "2024-10-21T15:21:49.433Z"
   },
   {
    "duration": 3,
    "start_time": "2024-10-21T15:34:01.014Z"
   },
   {
    "duration": 5,
    "start_time": "2024-10-21T15:34:04.571Z"
   },
   {
    "duration": 1374,
    "start_time": "2024-10-21T15:34:05.377Z"
   },
   {
    "duration": 3,
    "start_time": "2024-10-21T15:34:45.017Z"
   },
   {
    "duration": 5,
    "start_time": "2024-10-21T15:34:46.763Z"
   },
   {
    "duration": 1614,
    "start_time": "2024-10-21T15:34:47.302Z"
   },
   {
    "duration": 3,
    "start_time": "2024-10-21T15:36:06.775Z"
   },
   {
    "duration": 13,
    "start_time": "2024-10-21T15:36:14.182Z"
   },
   {
    "duration": 7415,
    "start_time": "2024-10-21T15:38:41.104Z"
   },
   {
    "duration": 2,
    "start_time": "2024-10-21T15:38:48.521Z"
   },
   {
    "duration": 67,
    "start_time": "2024-10-21T15:38:48.524Z"
   },
   {
    "duration": 14,
    "start_time": "2024-10-21T15:38:48.592Z"
   },
   {
    "duration": 4,
    "start_time": "2024-10-21T15:38:48.608Z"
   },
   {
    "duration": 8,
    "start_time": "2024-10-21T15:38:48.613Z"
   },
   {
    "duration": 3,
    "start_time": "2024-10-21T15:38:48.622Z"
   },
   {
    "duration": 204,
    "start_time": "2024-10-21T15:38:48.626Z"
   },
   {
    "duration": 171,
    "start_time": "2024-10-21T15:38:48.832Z"
   },
   {
    "duration": 218,
    "start_time": "2024-10-21T15:38:49.005Z"
   },
   {
    "duration": 117,
    "start_time": "2024-10-21T15:38:49.224Z"
   },
   {
    "duration": 183,
    "start_time": "2024-10-21T15:38:49.342Z"
   },
   {
    "duration": 184,
    "start_time": "2024-10-21T15:38:49.527Z"
   },
   {
    "duration": 1449,
    "start_time": "2024-10-21T15:38:49.713Z"
   },
   {
    "duration": 93,
    "start_time": "2024-10-21T15:38:51.167Z"
   },
   {
    "duration": 121,
    "start_time": "2024-10-21T15:38:51.265Z"
   },
   {
    "duration": 0,
    "start_time": "2024-10-21T15:38:51.388Z"
   },
   {
    "duration": 0,
    "start_time": "2024-10-21T15:38:51.389Z"
   },
   {
    "duration": 0,
    "start_time": "2024-10-21T15:38:51.390Z"
   },
   {
    "duration": 0,
    "start_time": "2024-10-21T15:38:51.391Z"
   },
   {
    "duration": 0,
    "start_time": "2024-10-21T15:38:51.392Z"
   },
   {
    "duration": 0,
    "start_time": "2024-10-21T15:38:51.393Z"
   },
   {
    "duration": 0,
    "start_time": "2024-10-21T15:38:51.394Z"
   },
   {
    "duration": 0,
    "start_time": "2024-10-21T15:38:51.395Z"
   },
   {
    "duration": 0,
    "start_time": "2024-10-21T15:38:51.396Z"
   },
   {
    "duration": 0,
    "start_time": "2024-10-21T15:38:51.397Z"
   },
   {
    "duration": 1,
    "start_time": "2024-10-21T15:38:51.397Z"
   },
   {
    "duration": 42,
    "start_time": "2024-10-21T15:38:57.328Z"
   },
   {
    "duration": 582,
    "start_time": "2024-10-21T15:40:05.335Z"
   },
   {
    "duration": 32,
    "start_time": "2024-10-21T15:40:17.589Z"
   },
   {
    "duration": 9,
    "start_time": "2024-10-21T15:40:33.083Z"
   },
   {
    "duration": 855,
    "start_time": "2024-10-21T15:41:05.752Z"
   },
   {
    "duration": 13,
    "start_time": "2024-10-21T15:41:17.326Z"
   },
   {
    "duration": 14,
    "start_time": "2024-10-21T15:42:06.069Z"
   },
   {
    "duration": 9,
    "start_time": "2024-10-21T15:42:13.423Z"
   },
   {
    "duration": 14,
    "start_time": "2024-10-21T15:42:28.263Z"
   },
   {
    "duration": 13,
    "start_time": "2024-10-21T15:42:40.649Z"
   },
   {
    "duration": 10,
    "start_time": "2024-10-21T15:42:45.451Z"
   },
   {
    "duration": 8,
    "start_time": "2024-10-21T15:42:52.878Z"
   },
   {
    "duration": 8,
    "start_time": "2024-10-21T15:42:56.779Z"
   },
   {
    "duration": 7067,
    "start_time": "2024-10-21T15:44:13.637Z"
   },
   {
    "duration": 2,
    "start_time": "2024-10-21T15:44:20.706Z"
   },
   {
    "duration": 61,
    "start_time": "2024-10-21T15:44:20.709Z"
   },
   {
    "duration": 62,
    "start_time": "2024-10-21T15:44:20.771Z"
   },
   {
    "duration": 4,
    "start_time": "2024-10-21T15:44:20.835Z"
   },
   {
    "duration": 8,
    "start_time": "2024-10-21T15:44:20.840Z"
   },
   {
    "duration": 16,
    "start_time": "2024-10-21T15:44:20.850Z"
   },
   {
    "duration": 218,
    "start_time": "2024-10-21T15:44:20.867Z"
   },
   {
    "duration": 178,
    "start_time": "2024-10-21T15:44:21.086Z"
   },
   {
    "duration": 234,
    "start_time": "2024-10-21T15:44:21.265Z"
   },
   {
    "duration": 119,
    "start_time": "2024-10-21T15:44:21.501Z"
   },
   {
    "duration": 181,
    "start_time": "2024-10-21T15:44:21.621Z"
   },
   {
    "duration": 188,
    "start_time": "2024-10-21T15:44:21.803Z"
   },
   {
    "duration": 1373,
    "start_time": "2024-10-21T15:44:21.993Z"
   },
   {
    "duration": 4,
    "start_time": "2024-10-21T15:44:23.460Z"
   },
   {
    "duration": 105,
    "start_time": "2024-10-21T15:44:23.467Z"
   },
   {
    "duration": 7139,
    "start_time": "2024-10-21T15:46:47.557Z"
   },
   {
    "duration": 2,
    "start_time": "2024-10-21T15:46:54.699Z"
   },
   {
    "duration": 69,
    "start_time": "2024-10-21T15:46:54.702Z"
   },
   {
    "duration": 14,
    "start_time": "2024-10-21T15:46:54.772Z"
   },
   {
    "duration": 38,
    "start_time": "2024-10-21T15:46:54.787Z"
   },
   {
    "duration": 8,
    "start_time": "2024-10-21T15:46:54.826Z"
   },
   {
    "duration": 16,
    "start_time": "2024-10-21T15:46:54.836Z"
   },
   {
    "duration": 195,
    "start_time": "2024-10-21T15:46:54.853Z"
   },
   {
    "duration": 179,
    "start_time": "2024-10-21T15:46:55.050Z"
   },
   {
    "duration": 233,
    "start_time": "2024-10-21T15:46:55.231Z"
   },
   {
    "duration": 124,
    "start_time": "2024-10-21T15:46:55.465Z"
   },
   {
    "duration": 181,
    "start_time": "2024-10-21T15:46:55.591Z"
   },
   {
    "duration": 189,
    "start_time": "2024-10-21T15:46:55.773Z"
   },
   {
    "duration": 1399,
    "start_time": "2024-10-21T15:46:55.964Z"
   },
   {
    "duration": 96,
    "start_time": "2024-10-21T15:46:57.364Z"
   },
   {
    "duration": 125,
    "start_time": "2024-10-21T15:46:57.462Z"
   },
   {
    "duration": 0,
    "start_time": "2024-10-21T15:46:57.588Z"
   },
   {
    "duration": 0,
    "start_time": "2024-10-21T15:46:57.589Z"
   },
   {
    "duration": 0,
    "start_time": "2024-10-21T15:46:57.590Z"
   },
   {
    "duration": 0,
    "start_time": "2024-10-21T15:46:57.591Z"
   },
   {
    "duration": 0,
    "start_time": "2024-10-21T15:46:57.592Z"
   },
   {
    "duration": 0,
    "start_time": "2024-10-21T15:46:57.593Z"
   },
   {
    "duration": 0,
    "start_time": "2024-10-21T15:46:57.593Z"
   },
   {
    "duration": 0,
    "start_time": "2024-10-21T15:46:57.594Z"
   },
   {
    "duration": 0,
    "start_time": "2024-10-21T15:46:57.595Z"
   },
   {
    "duration": 0,
    "start_time": "2024-10-21T15:46:57.596Z"
   },
   {
    "duration": 0,
    "start_time": "2024-10-21T15:46:57.597Z"
   },
   {
    "duration": 0,
    "start_time": "2024-10-21T15:46:57.598Z"
   },
   {
    "duration": 59,
    "start_time": "2024-10-21T15:47:20.491Z"
   },
   {
    "duration": 112,
    "start_time": "2024-10-21T15:47:23.442Z"
   },
   {
    "duration": 6112,
    "start_time": "2024-10-21T15:47:42.240Z"
   },
   {
    "duration": 0,
    "start_time": "2024-10-21T15:47:48.354Z"
   },
   {
    "duration": 6049,
    "start_time": "2024-10-21T15:48:25.100Z"
   },
   {
    "duration": 128,
    "start_time": "2024-10-21T15:48:45.003Z"
   },
   {
    "duration": 439,
    "start_time": "2024-10-21T15:48:51.430Z"
   },
   {
    "duration": 16,
    "start_time": "2024-10-21T15:50:27.797Z"
   },
   {
    "duration": 389,
    "start_time": "2024-10-21T15:50:31.448Z"
   },
   {
    "duration": 8,
    "start_time": "2024-10-21T15:51:28.687Z"
   },
   {
    "duration": 5,
    "start_time": "2024-10-21T15:51:30.439Z"
   },
   {
    "duration": 2,
    "start_time": "2024-10-21T15:52:53.193Z"
   },
   {
    "duration": 2,
    "start_time": "2024-10-21T15:52:58.863Z"
   },
   {
    "duration": 2,
    "start_time": "2024-10-21T15:53:03.126Z"
   },
   {
    "duration": 47,
    "start_time": "2024-10-21T15:53:04.634Z"
   },
   {
    "duration": 12,
    "start_time": "2024-10-21T15:53:05.286Z"
   },
   {
    "duration": 6,
    "start_time": "2024-10-21T15:53:06.030Z"
   },
   {
    "duration": 8,
    "start_time": "2024-10-21T15:53:06.663Z"
   },
   {
    "duration": 3,
    "start_time": "2024-10-21T15:53:08.134Z"
   },
   {
    "duration": 186,
    "start_time": "2024-10-21T15:53:08.737Z"
   },
   {
    "duration": 238,
    "start_time": "2024-10-21T15:53:09.168Z"
   },
   {
    "duration": 171,
    "start_time": "2024-10-21T15:53:09.469Z"
   },
   {
    "duration": 128,
    "start_time": "2024-10-21T15:53:09.913Z"
   },
   {
    "duration": 168,
    "start_time": "2024-10-21T15:53:10.724Z"
   },
   {
    "duration": 172,
    "start_time": "2024-10-21T15:53:11.514Z"
   },
   {
    "duration": 1236,
    "start_time": "2024-10-21T15:53:12.226Z"
   },
   {
    "duration": 3,
    "start_time": "2024-10-21T15:53:22.406Z"
   },
   {
    "duration": 9,
    "start_time": "2024-10-21T15:53:24.399Z"
   },
   {
    "duration": 149200,
    "start_time": "2024-10-21T15:53:25.164Z"
   },
   {
    "duration": 425,
    "start_time": "2024-10-21T15:55:54.366Z"
   },
   {
    "duration": 7417,
    "start_time": "2024-10-21T16:05:53.998Z"
   },
   {
    "duration": 2,
    "start_time": "2024-10-21T16:06:01.417Z"
   },
   {
    "duration": 162,
    "start_time": "2024-10-21T16:06:01.420Z"
   },
   {
    "duration": 16,
    "start_time": "2024-10-21T16:06:01.583Z"
   },
   {
    "duration": 8,
    "start_time": "2024-10-21T16:06:01.601Z"
   },
   {
    "duration": 17,
    "start_time": "2024-10-21T16:06:01.611Z"
   },
   {
    "duration": 11,
    "start_time": "2024-10-21T16:06:01.629Z"
   },
   {
    "duration": 197,
    "start_time": "2024-10-21T16:06:01.642Z"
   },
   {
    "duration": 181,
    "start_time": "2024-10-21T16:06:01.841Z"
   },
   {
    "duration": 235,
    "start_time": "2024-10-21T16:06:02.024Z"
   },
   {
    "duration": 125,
    "start_time": "2024-10-21T16:06:02.261Z"
   },
   {
    "duration": 200,
    "start_time": "2024-10-21T16:06:02.388Z"
   },
   {
    "duration": 181,
    "start_time": "2024-10-21T16:06:02.590Z"
   },
   {
    "duration": 1388,
    "start_time": "2024-10-21T16:06:02.774Z"
   },
   {
    "duration": 94,
    "start_time": "2024-10-21T16:06:04.164Z"
   },
   {
    "duration": 98,
    "start_time": "2024-10-21T16:06:04.259Z"
   },
   {
    "duration": 79401,
    "start_time": "2024-10-21T16:06:04.359Z"
   },
   {
    "duration": 66,
    "start_time": "2024-10-21T16:07:23.762Z"
   },
   {
    "duration": 0,
    "start_time": "2024-10-21T16:07:23.830Z"
   },
   {
    "duration": 1,
    "start_time": "2024-10-21T16:07:23.831Z"
   },
   {
    "duration": 0,
    "start_time": "2024-10-21T16:07:23.833Z"
   },
   {
    "duration": 0,
    "start_time": "2024-10-21T16:07:23.835Z"
   },
   {
    "duration": 0,
    "start_time": "2024-10-21T16:07:23.836Z"
   },
   {
    "duration": 0,
    "start_time": "2024-10-21T16:07:23.838Z"
   },
   {
    "duration": 0,
    "start_time": "2024-10-21T16:07:23.839Z"
   },
   {
    "duration": 1,
    "start_time": "2024-10-21T16:07:23.839Z"
   },
   {
    "duration": 0,
    "start_time": "2024-10-21T16:07:23.840Z"
   },
   {
    "duration": 0,
    "start_time": "2024-10-21T16:07:23.841Z"
   },
   {
    "duration": 389,
    "start_time": "2024-10-21T16:09:23.232Z"
   },
   {
    "duration": 6,
    "start_time": "2024-10-21T16:09:39.232Z"
   },
   {
    "duration": 4,
    "start_time": "2024-10-21T16:09:40.044Z"
   },
   {
    "duration": 2,
    "start_time": "2024-10-21T16:09:42.423Z"
   },
   {
    "duration": 3,
    "start_time": "2024-10-21T16:09:42.636Z"
   },
   {
    "duration": 2,
    "start_time": "2024-10-21T16:09:43.413Z"
   },
   {
    "duration": 23027,
    "start_time": "2024-10-21T16:09:48.040Z"
   },
   {
    "duration": 4,
    "start_time": "2024-10-21T16:10:11.068Z"
   },
   {
    "duration": 128,
    "start_time": "2024-10-21T16:10:11.073Z"
   },
   {
    "duration": 0,
    "start_time": "2024-10-21T16:10:11.203Z"
   },
   {
    "duration": 0,
    "start_time": "2024-10-21T16:10:11.204Z"
   },
   {
    "duration": 5812,
    "start_time": "2024-10-21T16:14:39.433Z"
   },
   {
    "duration": 12,
    "start_time": "2024-10-21T16:14:45.281Z"
   },
   {
    "duration": 14,
    "start_time": "2024-10-21T16:15:09.864Z"
   },
   {
    "duration": 6047,
    "start_time": "2024-10-21T16:15:21.764Z"
   },
   {
    "duration": 22936,
    "start_time": "2024-10-21T16:15:35.433Z"
   },
   {
    "duration": 4,
    "start_time": "2024-10-21T16:15:58.371Z"
   },
   {
    "duration": 14,
    "start_time": "2024-10-21T16:15:58.376Z"
   },
   {
    "duration": 7113,
    "start_time": "2024-10-21T16:20:51.612Z"
   },
   {
    "duration": 3,
    "start_time": "2024-10-21T16:20:58.727Z"
   },
   {
    "duration": 55,
    "start_time": "2024-10-21T16:20:58.731Z"
   },
   {
    "duration": 14,
    "start_time": "2024-10-21T16:20:58.788Z"
   },
   {
    "duration": 5,
    "start_time": "2024-10-21T16:20:58.804Z"
   },
   {
    "duration": 13,
    "start_time": "2024-10-21T16:20:58.810Z"
   },
   {
    "duration": 3,
    "start_time": "2024-10-21T16:20:58.824Z"
   },
   {
    "duration": 207,
    "start_time": "2024-10-21T16:20:58.828Z"
   },
   {
    "duration": 177,
    "start_time": "2024-10-21T16:20:59.036Z"
   },
   {
    "duration": 228,
    "start_time": "2024-10-21T16:20:59.214Z"
   },
   {
    "duration": 119,
    "start_time": "2024-10-21T16:20:59.444Z"
   },
   {
    "duration": 176,
    "start_time": "2024-10-21T16:20:59.565Z"
   },
   {
    "duration": 194,
    "start_time": "2024-10-21T16:20:59.743Z"
   },
   {
    "duration": 1418,
    "start_time": "2024-10-21T16:20:59.940Z"
   },
   {
    "duration": 3,
    "start_time": "2024-10-21T16:21:01.360Z"
   },
   {
    "duration": 146,
    "start_time": "2024-10-21T16:21:01.367Z"
   },
   {
    "duration": 144882,
    "start_time": "2024-10-21T16:21:01.514Z"
   },
   {
    "duration": 434,
    "start_time": "2024-10-21T16:23:26.397Z"
   },
   {
    "duration": 7,
    "start_time": "2024-10-21T16:23:26.832Z"
   },
   {
    "duration": 14,
    "start_time": "2024-10-21T16:23:26.840Z"
   },
   {
    "duration": 3,
    "start_time": "2024-10-21T16:23:26.857Z"
   },
   {
    "duration": 15,
    "start_time": "2024-10-21T16:23:26.862Z"
   },
   {
    "duration": 3,
    "start_time": "2024-10-21T16:23:26.878Z"
   },
   {
    "duration": 26403,
    "start_time": "2024-10-21T16:23:26.882Z"
   },
   {
    "duration": 4,
    "start_time": "2024-10-21T16:23:53.287Z"
   },
   {
    "duration": 10,
    "start_time": "2024-10-21T16:23:53.292Z"
   },
   {
    "duration": 129,
    "start_time": "2024-10-21T16:23:53.303Z"
   },
   {
    "duration": 0,
    "start_time": "2024-10-21T16:23:53.433Z"
   },
   {
    "duration": 8,
    "start_time": "2024-10-21T17:13:29.264Z"
   },
   {
    "duration": 176,
    "start_time": "2024-10-21T17:13:53.846Z"
   },
   {
    "duration": 4,
    "start_time": "2024-10-21T17:15:47.255Z"
   },
   {
    "duration": 4,
    "start_time": "2024-10-21T17:16:08.132Z"
   },
   {
    "duration": 7,
    "start_time": "2024-10-21T17:21:34.999Z"
   },
   {
    "duration": 8,
    "start_time": "2024-10-21T17:21:38.306Z"
   },
   {
    "duration": 7,
    "start_time": "2024-10-21T17:22:25.030Z"
   },
   {
    "duration": 59,
    "start_time": "2024-10-21T17:22:41.289Z"
   },
   {
    "duration": 7,
    "start_time": "2024-10-21T17:22:45.471Z"
   },
   {
    "duration": 8,
    "start_time": "2024-10-21T17:22:50.388Z"
   },
   {
    "duration": 5,
    "start_time": "2024-10-21T17:22:53.035Z"
   },
   {
    "duration": 4,
    "start_time": "2024-10-21T17:22:55.606Z"
   },
   {
    "duration": 4,
    "start_time": "2024-10-21T17:23:52.578Z"
   },
   {
    "duration": 144,
    "start_time": "2024-10-21T17:23:55.826Z"
   },
   {
    "duration": 4,
    "start_time": "2024-10-21T17:24:22.704Z"
   },
   {
    "duration": 141,
    "start_time": "2024-10-21T17:24:22.938Z"
   },
   {
    "duration": 7503,
    "start_time": "2024-10-21T17:24:46.716Z"
   },
   {
    "duration": 2,
    "start_time": "2024-10-21T17:24:54.221Z"
   },
   {
    "duration": 86,
    "start_time": "2024-10-21T17:24:54.225Z"
   },
   {
    "duration": 14,
    "start_time": "2024-10-21T17:24:54.312Z"
   },
   {
    "duration": 7,
    "start_time": "2024-10-21T17:24:54.328Z"
   },
   {
    "duration": 23,
    "start_time": "2024-10-21T17:24:54.337Z"
   },
   {
    "duration": 3,
    "start_time": "2024-10-21T17:24:54.361Z"
   },
   {
    "duration": 199,
    "start_time": "2024-10-21T17:24:54.365Z"
   },
   {
    "duration": 180,
    "start_time": "2024-10-21T17:24:54.565Z"
   },
   {
    "duration": 238,
    "start_time": "2024-10-21T17:24:54.746Z"
   },
   {
    "duration": 117,
    "start_time": "2024-10-21T17:24:54.986Z"
   },
   {
    "duration": 190,
    "start_time": "2024-10-21T17:24:55.105Z"
   },
   {
    "duration": 179,
    "start_time": "2024-10-21T17:24:55.296Z"
   },
   {
    "duration": 1486,
    "start_time": "2024-10-21T17:24:55.478Z"
   },
   {
    "duration": 92,
    "start_time": "2024-10-21T17:24:56.966Z"
   },
   {
    "duration": 104,
    "start_time": "2024-10-21T17:24:57.060Z"
   },
   {
    "duration": 78686,
    "start_time": "2024-10-21T17:24:57.166Z"
   },
   {
    "duration": 376,
    "start_time": "2024-10-21T17:26:15.853Z"
   },
   {
    "duration": 7,
    "start_time": "2024-10-21T17:26:16.231Z"
   },
   {
    "duration": 5,
    "start_time": "2024-10-21T17:26:16.239Z"
   },
   {
    "duration": 3,
    "start_time": "2024-10-21T17:26:16.257Z"
   },
   {
    "duration": 26,
    "start_time": "2024-10-21T17:26:16.261Z"
   },
   {
    "duration": 14,
    "start_time": "2024-10-21T17:26:16.289Z"
   },
   {
    "duration": 22769,
    "start_time": "2024-10-21T17:26:16.305Z"
   },
   {
    "duration": 3,
    "start_time": "2024-10-21T17:26:39.076Z"
   },
   {
    "duration": 25,
    "start_time": "2024-10-21T17:26:39.081Z"
   },
   {
    "duration": 8,
    "start_time": "2024-10-21T17:26:39.107Z"
   },
   {
    "duration": 168,
    "start_time": "2024-10-21T17:26:39.116Z"
   },
   {
    "duration": 7307,
    "start_time": "2024-10-21T17:30:44.313Z"
   },
   {
    "duration": 2,
    "start_time": "2024-10-21T17:30:51.622Z"
   },
   {
    "duration": 83,
    "start_time": "2024-10-21T17:30:51.625Z"
   },
   {
    "duration": 14,
    "start_time": "2024-10-21T17:30:51.710Z"
   },
   {
    "duration": 4,
    "start_time": "2024-10-21T17:30:51.726Z"
   },
   {
    "duration": 31,
    "start_time": "2024-10-21T17:30:51.731Z"
   },
   {
    "duration": 46,
    "start_time": "2024-10-21T17:30:51.764Z"
   },
   {
    "duration": 217,
    "start_time": "2024-10-21T17:30:51.811Z"
   },
   {
    "duration": 190,
    "start_time": "2024-10-21T17:30:52.030Z"
   },
   {
    "duration": 237,
    "start_time": "2024-10-21T17:30:52.223Z"
   },
   {
    "duration": 137,
    "start_time": "2024-10-21T17:30:52.461Z"
   },
   {
    "duration": 212,
    "start_time": "2024-10-21T17:30:52.600Z"
   },
   {
    "duration": 205,
    "start_time": "2024-10-21T17:30:52.813Z"
   },
   {
    "duration": 4147,
    "start_time": "2024-10-21T17:30:53.019Z"
   },
   {
    "duration": 90,
    "start_time": "2024-10-21T17:30:57.168Z"
   },
   {
    "duration": 93,
    "start_time": "2024-10-21T17:30:57.264Z"
   },
   {
    "duration": 62889,
    "start_time": "2024-10-21T17:30:57.359Z"
   },
   {
    "duration": 398,
    "start_time": "2024-10-21T17:32:00.249Z"
   },
   {
    "duration": 13,
    "start_time": "2024-10-21T17:32:00.648Z"
   },
   {
    "duration": 85,
    "start_time": "2024-10-21T17:32:00.662Z"
   },
   {
    "duration": 16,
    "start_time": "2024-10-21T17:32:00.748Z"
   },
   {
    "duration": 20,
    "start_time": "2024-10-21T17:32:00.765Z"
   },
   {
    "duration": 25,
    "start_time": "2024-10-21T17:32:00.786Z"
   },
   {
    "duration": 21787,
    "start_time": "2024-10-21T17:32:00.812Z"
   },
   {
    "duration": 58,
    "start_time": "2024-10-21T17:32:22.601Z"
   },
   {
    "duration": 40,
    "start_time": "2024-10-21T17:32:22.661Z"
   },
   {
    "duration": 21,
    "start_time": "2024-10-21T17:32:22.702Z"
   },
   {
    "duration": 134,
    "start_time": "2024-10-21T17:32:22.726Z"
   },
   {
    "duration": 7121,
    "start_time": "2024-10-21T17:34:21.500Z"
   },
   {
    "duration": 2,
    "start_time": "2024-10-21T17:34:28.623Z"
   },
   {
    "duration": 51,
    "start_time": "2024-10-21T17:34:28.627Z"
   },
   {
    "duration": 14,
    "start_time": "2024-10-21T17:34:28.680Z"
   },
   {
    "duration": 46,
    "start_time": "2024-10-21T17:34:28.697Z"
   },
   {
    "duration": 8,
    "start_time": "2024-10-21T17:34:28.745Z"
   },
   {
    "duration": 4,
    "start_time": "2024-10-21T17:34:28.755Z"
   },
   {
    "duration": 199,
    "start_time": "2024-10-21T17:34:28.760Z"
   },
   {
    "duration": 181,
    "start_time": "2024-10-21T17:34:28.960Z"
   },
   {
    "duration": 229,
    "start_time": "2024-10-21T17:34:29.142Z"
   },
   {
    "duration": 123,
    "start_time": "2024-10-21T17:34:29.373Z"
   },
   {
    "duration": 185,
    "start_time": "2024-10-21T17:34:29.498Z"
   },
   {
    "duration": 188,
    "start_time": "2024-10-21T17:34:29.684Z"
   },
   {
    "duration": 1288,
    "start_time": "2024-10-21T17:34:29.875Z"
   },
   {
    "duration": 93,
    "start_time": "2024-10-21T17:34:31.165Z"
   },
   {
    "duration": 101,
    "start_time": "2024-10-21T17:34:31.260Z"
   },
   {
    "duration": 31982,
    "start_time": "2024-10-21T17:34:31.362Z"
   },
   {
    "duration": 377,
    "start_time": "2024-10-21T17:35:03.346Z"
   },
   {
    "duration": 7,
    "start_time": "2024-10-21T17:35:03.724Z"
   },
   {
    "duration": 8,
    "start_time": "2024-10-21T17:35:03.732Z"
   },
   {
    "duration": 6,
    "start_time": "2024-10-21T17:35:03.741Z"
   },
   {
    "duration": 9,
    "start_time": "2024-10-21T17:35:03.749Z"
   },
   {
    "duration": 43,
    "start_time": "2024-10-21T17:35:03.759Z"
   },
   {
    "duration": 18878,
    "start_time": "2024-10-21T17:35:03.803Z"
   },
   {
    "duration": 3,
    "start_time": "2024-10-21T17:35:22.683Z"
   },
   {
    "duration": 80,
    "start_time": "2024-10-21T17:35:22.688Z"
   },
   {
    "duration": 6,
    "start_time": "2024-10-21T17:35:22.769Z"
   },
   {
    "duration": 109,
    "start_time": "2024-10-21T17:35:22.776Z"
   },
   {
    "duration": 7088,
    "start_time": "2024-10-21T17:42:51.532Z"
   },
   {
    "duration": 2,
    "start_time": "2024-10-21T17:42:58.622Z"
   },
   {
    "duration": 57,
    "start_time": "2024-10-21T17:42:58.625Z"
   },
   {
    "duration": 14,
    "start_time": "2024-10-21T17:42:58.683Z"
   },
   {
    "duration": 69,
    "start_time": "2024-10-21T17:42:58.699Z"
   },
   {
    "duration": 33,
    "start_time": "2024-10-21T17:42:58.770Z"
   },
   {
    "duration": 7,
    "start_time": "2024-10-21T17:42:58.804Z"
   },
   {
    "duration": 191,
    "start_time": "2024-10-21T17:42:58.812Z"
   },
   {
    "duration": 184,
    "start_time": "2024-10-21T17:42:59.005Z"
   },
   {
    "duration": 224,
    "start_time": "2024-10-21T17:42:59.191Z"
   },
   {
    "duration": 118,
    "start_time": "2024-10-21T17:42:59.416Z"
   },
   {
    "duration": 182,
    "start_time": "2024-10-21T17:42:59.536Z"
   },
   {
    "duration": 180,
    "start_time": "2024-10-21T17:42:59.720Z"
   },
   {
    "duration": 1363,
    "start_time": "2024-10-21T17:42:59.902Z"
   },
   {
    "duration": 94,
    "start_time": "2024-10-21T17:43:01.266Z"
   },
   {
    "duration": 111,
    "start_time": "2024-10-21T17:43:01.361Z"
   },
   {
    "duration": 370,
    "start_time": "2024-10-21T17:43:01.474Z"
   },
   {
    "duration": 15,
    "start_time": "2024-10-21T17:43:01.845Z"
   },
   {
    "duration": 56,
    "start_time": "2024-10-21T17:43:01.861Z"
   },
   {
    "duration": 22,
    "start_time": "2024-10-21T17:43:01.918Z"
   },
   {
    "duration": 7,
    "start_time": "2024-10-21T17:43:01.941Z"
   },
   {
    "duration": 14,
    "start_time": "2024-10-21T17:43:01.949Z"
   },
   {
    "duration": 52507,
    "start_time": "2024-10-21T17:43:01.964Z"
   },
   {
    "duration": 3,
    "start_time": "2024-10-21T17:43:54.472Z"
   },
   {
    "duration": 13,
    "start_time": "2024-10-21T17:43:54.476Z"
   },
   {
    "duration": 69,
    "start_time": "2024-10-21T17:43:54.491Z"
   },
   {
    "duration": 343,
    "start_time": "2024-10-21T17:43:54.564Z"
   },
   {
    "duration": 7175,
    "start_time": "2024-10-21T17:46:28.168Z"
   },
   {
    "duration": 3,
    "start_time": "2024-10-21T17:46:35.345Z"
   },
   {
    "duration": 59,
    "start_time": "2024-10-21T17:46:35.349Z"
   },
   {
    "duration": 14,
    "start_time": "2024-10-21T17:46:35.409Z"
   },
   {
    "duration": 13,
    "start_time": "2024-10-21T17:46:35.425Z"
   },
   {
    "duration": 15,
    "start_time": "2024-10-21T17:46:35.439Z"
   },
   {
    "duration": 3,
    "start_time": "2024-10-21T17:46:35.455Z"
   },
   {
    "duration": 229,
    "start_time": "2024-10-21T17:46:35.459Z"
   },
   {
    "duration": 199,
    "start_time": "2024-10-21T17:46:35.690Z"
   },
   {
    "duration": 220,
    "start_time": "2024-10-21T17:46:35.890Z"
   },
   {
    "duration": 126,
    "start_time": "2024-10-21T17:46:36.111Z"
   },
   {
    "duration": 190,
    "start_time": "2024-10-21T17:46:36.239Z"
   },
   {
    "duration": 196,
    "start_time": "2024-10-21T17:46:36.431Z"
   },
   {
    "duration": 1745,
    "start_time": "2024-10-21T17:46:36.630Z"
   },
   {
    "duration": 4,
    "start_time": "2024-10-21T17:46:38.458Z"
   },
   {
    "duration": 129,
    "start_time": "2024-10-21T17:46:38.463Z"
   },
   {
    "duration": 365,
    "start_time": "2024-10-21T17:46:38.593Z"
   },
   {
    "duration": 9,
    "start_time": "2024-10-21T17:46:38.960Z"
   },
   {
    "duration": 10,
    "start_time": "2024-10-21T17:46:38.971Z"
   },
   {
    "duration": 6,
    "start_time": "2024-10-21T17:46:38.982Z"
   },
   {
    "duration": 5,
    "start_time": "2024-10-21T17:46:38.989Z"
   },
   {
    "duration": 4,
    "start_time": "2024-10-21T17:46:38.995Z"
   },
   {
    "duration": 48070,
    "start_time": "2024-10-21T17:46:39.000Z"
   },
   {
    "duration": 12,
    "start_time": "2024-10-21T17:47:27.071Z"
   },
   {
    "duration": 17,
    "start_time": "2024-10-21T17:47:27.084Z"
   },
   {
    "duration": 55,
    "start_time": "2024-10-21T17:47:27.103Z"
   },
   {
    "duration": 313,
    "start_time": "2024-10-21T17:47:27.160Z"
   },
   {
    "duration": 7064,
    "start_time": "2024-10-21T17:48:05.133Z"
   },
   {
    "duration": 3,
    "start_time": "2024-10-21T17:48:12.199Z"
   },
   {
    "duration": 54,
    "start_time": "2024-10-21T17:48:12.203Z"
   },
   {
    "duration": 14,
    "start_time": "2024-10-21T17:48:12.258Z"
   },
   {
    "duration": 4,
    "start_time": "2024-10-21T17:48:12.274Z"
   },
   {
    "duration": 12,
    "start_time": "2024-10-21T17:48:12.280Z"
   },
   {
    "duration": 4,
    "start_time": "2024-10-21T17:48:12.293Z"
   },
   {
    "duration": 212,
    "start_time": "2024-10-21T17:48:12.299Z"
   },
   {
    "duration": 172,
    "start_time": "2024-10-21T17:48:12.513Z"
   },
   {
    "duration": 225,
    "start_time": "2024-10-21T17:48:12.687Z"
   },
   {
    "duration": 121,
    "start_time": "2024-10-21T17:48:12.913Z"
   },
   {
    "duration": 182,
    "start_time": "2024-10-21T17:48:13.036Z"
   },
   {
    "duration": 181,
    "start_time": "2024-10-21T17:48:13.220Z"
   },
   {
    "duration": 1361,
    "start_time": "2024-10-21T17:48:13.404Z"
   },
   {
    "duration": 91,
    "start_time": "2024-10-21T17:48:14.767Z"
   },
   {
    "duration": 101,
    "start_time": "2024-10-21T17:48:14.860Z"
   },
   {
    "duration": 387,
    "start_time": "2024-10-21T17:48:14.963Z"
   },
   {
    "duration": 7,
    "start_time": "2024-10-21T17:48:15.357Z"
   },
   {
    "duration": 10,
    "start_time": "2024-10-21T17:48:15.366Z"
   },
   {
    "duration": 16,
    "start_time": "2024-10-21T17:48:15.378Z"
   },
   {
    "duration": 5,
    "start_time": "2024-10-21T17:48:15.395Z"
   },
   {
    "duration": 9,
    "start_time": "2024-10-21T17:48:15.401Z"
   },
   {
    "duration": 32901,
    "start_time": "2024-10-21T17:48:15.411Z"
   },
   {
    "duration": 4,
    "start_time": "2024-10-21T17:48:48.313Z"
   },
   {
    "duration": 16,
    "start_time": "2024-10-21T17:48:48.318Z"
   },
   {
    "duration": 3,
    "start_time": "2024-10-21T17:48:48.336Z"
   },
   {
    "duration": 188,
    "start_time": "2024-10-21T17:48:48.341Z"
   },
   {
    "duration": 7,
    "start_time": "2024-10-21T18:17:03.400Z"
   },
   {
    "duration": 7055,
    "start_time": "2024-10-21T18:17:32.938Z"
   },
   {
    "duration": 2,
    "start_time": "2024-10-21T18:17:39.995Z"
   },
   {
    "duration": 85,
    "start_time": "2024-10-21T18:17:39.998Z"
   },
   {
    "duration": 14,
    "start_time": "2024-10-21T18:17:40.084Z"
   },
   {
    "duration": 8,
    "start_time": "2024-10-21T18:17:40.100Z"
   },
   {
    "duration": 7,
    "start_time": "2024-10-21T18:17:40.109Z"
   },
   {
    "duration": 3,
    "start_time": "2024-10-21T18:17:40.117Z"
   },
   {
    "duration": 202,
    "start_time": "2024-10-21T18:17:40.122Z"
   },
   {
    "duration": 170,
    "start_time": "2024-10-21T18:17:40.326Z"
   },
   {
    "duration": 214,
    "start_time": "2024-10-21T18:17:40.498Z"
   },
   {
    "duration": 118,
    "start_time": "2024-10-21T18:17:40.713Z"
   },
   {
    "duration": 186,
    "start_time": "2024-10-21T18:17:40.832Z"
   },
   {
    "duration": 177,
    "start_time": "2024-10-21T18:17:41.019Z"
   },
   {
    "duration": 1368,
    "start_time": "2024-10-21T18:17:41.198Z"
   },
   {
    "duration": 91,
    "start_time": "2024-10-21T18:17:42.567Z"
   },
   {
    "duration": 113,
    "start_time": "2024-10-21T18:17:42.660Z"
   },
   {
    "duration": 376,
    "start_time": "2024-10-21T18:17:42.775Z"
   },
   {
    "duration": 11,
    "start_time": "2024-10-21T18:17:43.152Z"
   },
   {
    "duration": 12,
    "start_time": "2024-10-21T18:17:43.164Z"
   },
   {
    "duration": 4,
    "start_time": "2024-10-21T18:17:43.177Z"
   },
   {
    "duration": 5,
    "start_time": "2024-10-21T18:17:43.182Z"
   },
   {
    "duration": 3,
    "start_time": "2024-10-21T18:17:43.188Z"
   },
   {
    "duration": 47174,
    "start_time": "2024-10-21T18:17:43.192Z"
   },
   {
    "duration": 4,
    "start_time": "2024-10-21T18:18:30.367Z"
   },
   {
    "duration": 43,
    "start_time": "2024-10-21T18:18:30.372Z"
   },
   {
    "duration": 46,
    "start_time": "2024-10-21T18:18:30.417Z"
   },
   {
    "duration": 316,
    "start_time": "2024-10-21T18:18:30.465Z"
   },
   {
    "duration": 111,
    "start_time": "2024-10-21T18:37:46.100Z"
   },
   {
    "duration": 8,
    "start_time": "2024-10-21T18:38:26.245Z"
   },
   {
    "duration": 8,
    "start_time": "2024-10-21T18:38:36.459Z"
   },
   {
    "duration": 296,
    "start_time": "2024-10-21T18:39:13.408Z"
   },
   {
    "duration": 7682,
    "start_time": "2024-10-21T18:50:36.611Z"
   },
   {
    "duration": 4,
    "start_time": "2024-10-21T18:50:44.295Z"
   },
   {
    "duration": 57,
    "start_time": "2024-10-21T18:50:44.300Z"
   },
   {
    "duration": 15,
    "start_time": "2024-10-21T18:50:44.359Z"
   },
   {
    "duration": 5,
    "start_time": "2024-10-21T18:50:44.376Z"
   },
   {
    "duration": 17,
    "start_time": "2024-10-21T18:50:44.382Z"
   },
   {
    "duration": 4,
    "start_time": "2024-10-21T18:50:44.400Z"
   },
   {
    "duration": 207,
    "start_time": "2024-10-21T18:50:44.405Z"
   },
   {
    "duration": 175,
    "start_time": "2024-10-21T18:50:44.614Z"
   },
   {
    "duration": 229,
    "start_time": "2024-10-21T18:50:44.791Z"
   },
   {
    "duration": 127,
    "start_time": "2024-10-21T18:50:45.022Z"
   },
   {
    "duration": 187,
    "start_time": "2024-10-21T18:50:45.151Z"
   },
   {
    "duration": 185,
    "start_time": "2024-10-21T18:50:45.340Z"
   },
   {
    "duration": 1534,
    "start_time": "2024-10-21T18:50:45.529Z"
   },
   {
    "duration": 94,
    "start_time": "2024-10-21T18:50:47.067Z"
   },
   {
    "duration": 103,
    "start_time": "2024-10-21T18:50:47.166Z"
   },
   {
    "duration": 377,
    "start_time": "2024-10-21T18:50:47.270Z"
   },
   {
    "duration": 10,
    "start_time": "2024-10-21T18:50:47.649Z"
   },
   {
    "duration": 6,
    "start_time": "2024-10-21T18:50:47.660Z"
   },
   {
    "duration": 8,
    "start_time": "2024-10-21T18:50:47.667Z"
   },
   {
    "duration": 4,
    "start_time": "2024-10-21T18:50:47.676Z"
   },
   {
    "duration": 3,
    "start_time": "2024-10-21T18:50:47.682Z"
   },
   {
    "duration": 46880,
    "start_time": "2024-10-21T18:50:47.686Z"
   },
   {
    "duration": 3,
    "start_time": "2024-10-21T18:51:34.567Z"
   },
   {
    "duration": 32,
    "start_time": "2024-10-21T18:51:34.571Z"
   },
   {
    "duration": 54,
    "start_time": "2024-10-21T18:51:34.604Z"
   },
   {
    "duration": 346,
    "start_time": "2024-10-21T18:51:34.660Z"
   },
   {
    "duration": 7109,
    "start_time": "2024-10-21T18:58:46.280Z"
   },
   {
    "duration": 3,
    "start_time": "2024-10-21T18:58:53.390Z"
   },
   {
    "duration": 64,
    "start_time": "2024-10-21T18:58:53.394Z"
   },
   {
    "duration": 21,
    "start_time": "2024-10-21T18:58:53.460Z"
   },
   {
    "duration": 4,
    "start_time": "2024-10-21T18:58:53.483Z"
   },
   {
    "duration": 77,
    "start_time": "2024-10-21T18:58:53.489Z"
   },
   {
    "duration": 3,
    "start_time": "2024-10-21T18:58:53.568Z"
   },
   {
    "duration": 194,
    "start_time": "2024-10-21T18:58:53.572Z"
   },
   {
    "duration": 168,
    "start_time": "2024-10-21T18:58:53.768Z"
   },
   {
    "duration": 226,
    "start_time": "2024-10-21T18:58:53.937Z"
   },
   {
    "duration": 124,
    "start_time": "2024-10-21T18:58:54.164Z"
   },
   {
    "duration": 180,
    "start_time": "2024-10-21T18:58:54.290Z"
   },
   {
    "duration": 187,
    "start_time": "2024-10-21T18:58:54.471Z"
   },
   {
    "duration": 1398,
    "start_time": "2024-10-21T18:58:54.661Z"
   },
   {
    "duration": 3,
    "start_time": "2024-10-21T18:58:56.061Z"
   },
   {
    "duration": 278,
    "start_time": "2024-10-21T18:58:56.066Z"
   },
   {
    "duration": 391,
    "start_time": "2024-10-21T18:58:56.345Z"
   },
   {
    "duration": 28,
    "start_time": "2024-10-21T18:58:56.737Z"
   },
   {
    "duration": 7,
    "start_time": "2024-10-21T18:58:56.767Z"
   },
   {
    "duration": 3,
    "start_time": "2024-10-21T18:58:56.776Z"
   },
   {
    "duration": 18,
    "start_time": "2024-10-21T18:58:56.780Z"
   },
   {
    "duration": 4,
    "start_time": "2024-10-21T18:58:56.799Z"
   },
   {
    "duration": 227483,
    "start_time": "2024-10-21T18:58:56.804Z"
   },
   {
    "duration": 4,
    "start_time": "2024-10-21T19:02:44.288Z"
   },
   {
    "duration": 65,
    "start_time": "2024-10-21T19:02:44.293Z"
   },
   {
    "duration": 4,
    "start_time": "2024-10-21T19:02:44.361Z"
   },
   {
    "duration": 2187,
    "start_time": "2024-10-21T19:02:44.366Z"
   },
   {
    "duration": 2176,
    "start_time": "2024-10-21T19:15:05.504Z"
   },
   {
    "duration": 7050,
    "start_time": "2024-10-21T19:16:33.123Z"
   },
   {
    "duration": 3,
    "start_time": "2024-10-21T19:16:40.174Z"
   },
   {
    "duration": 50,
    "start_time": "2024-10-21T19:16:40.178Z"
   },
   {
    "duration": 13,
    "start_time": "2024-10-21T19:16:40.229Z"
   },
   {
    "duration": 59,
    "start_time": "2024-10-21T19:16:40.244Z"
   },
   {
    "duration": 8,
    "start_time": "2024-10-21T19:16:40.305Z"
   },
   {
    "duration": 3,
    "start_time": "2024-10-21T19:16:40.314Z"
   },
   {
    "duration": 193,
    "start_time": "2024-10-21T19:16:40.318Z"
   },
   {
    "duration": 176,
    "start_time": "2024-10-21T19:16:40.513Z"
   },
   {
    "duration": 229,
    "start_time": "2024-10-21T19:16:40.691Z"
   },
   {
    "duration": 117,
    "start_time": "2024-10-21T19:16:40.922Z"
   },
   {
    "duration": 177,
    "start_time": "2024-10-21T19:16:41.040Z"
   },
   {
    "duration": 192,
    "start_time": "2024-10-21T19:16:41.218Z"
   },
   {
    "duration": 1648,
    "start_time": "2024-10-21T19:16:41.413Z"
   },
   {
    "duration": 4,
    "start_time": "2024-10-21T19:16:43.063Z"
   },
   {
    "duration": 175,
    "start_time": "2024-10-21T19:16:43.158Z"
   },
   {
    "duration": 399,
    "start_time": "2024-10-21T19:16:43.335Z"
   },
   {
    "duration": 25,
    "start_time": "2024-10-21T19:16:43.736Z"
   },
   {
    "duration": 7,
    "start_time": "2024-10-21T19:16:43.762Z"
   },
   {
    "duration": 69,
    "start_time": "2024-10-21T19:16:43.771Z"
   },
   {
    "duration": 4,
    "start_time": "2024-10-21T19:16:43.841Z"
   },
   {
    "duration": 13,
    "start_time": "2024-10-21T19:16:43.846Z"
   },
   {
    "duration": 229327,
    "start_time": "2024-10-21T19:16:43.860Z"
   },
   {
    "duration": 5,
    "start_time": "2024-10-21T19:20:33.189Z"
   },
   {
    "duration": 73,
    "start_time": "2024-10-21T19:20:33.195Z"
   },
   {
    "duration": 89,
    "start_time": "2024-10-21T19:20:33.270Z"
   },
   {
    "duration": 2171,
    "start_time": "2024-10-21T19:20:33.361Z"
   }
  ],
  "kernelspec": {
   "display_name": "Python 3 (ipykernel)",
   "language": "python",
   "name": "python3"
  },
  "language_info": {
   "codemirror_mode": {
    "name": "ipython",
    "version": 3
   },
   "file_extension": ".py",
   "mimetype": "text/x-python",
   "name": "python",
   "nbconvert_exporter": "python",
   "pygments_lexer": "ipython3",
   "version": "3.12.7"
  },
  "toc": {
   "base_numbering": 1,
   "nav_menu": {},
   "number_sections": true,
   "sideBar": true,
   "skip_h1_title": true,
   "title_cell": "Содержание",
   "title_sidebar": "Contents",
   "toc_cell": true,
   "toc_position": {
    "height": "calc(100% - 180px)",
    "left": "10px",
    "top": "150px",
    "width": "165px"
   },
   "toc_section_display": true,
   "toc_window_display": true
  }
 },
 "nbformat": 4,
 "nbformat_minor": 4
}
